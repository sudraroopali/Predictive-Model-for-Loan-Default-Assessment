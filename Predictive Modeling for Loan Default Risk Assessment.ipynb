{
 "cells": [
  {
   "cell_type": "markdown",
   "id": "aa652378",
   "metadata": {},
   "source": [
    "<table align=\"center\" width=100%>\n",
    "        <tr>\n",
    "            <td>\n",
    "            <div align=\"center\">\n",
    "                    <font color=\"#21619\" size=6px>                 \n",
    "                        <b> Predictive Modeling for Loan Default Risk Assessment\n",
    "                     </b>\n",
    "                    </font>\n",
    "                    </div>"
   ]
  },
  {
   "cell_type": "markdown",
   "id": "9536d7cb",
   "metadata": {},
   "source": [
    "<table align=\"center\" width=100%>\n",
    "        <tr>\n",
    "            <td>\n",
    "            <div align=\"left\">\n",
    "                    <font color=\"#21619\" size=4px>                 \n",
    "                        <b> Author\n",
    "                       </b>\n",
    "                        </font>\n",
    "                        </div>"
   ]
  },
  {
   "cell_type": "markdown",
   "id": "c2cdcba0",
   "metadata": {},
   "source": [
    "Roopali Sudra"
   ]
  },
  {
   "cell_type": "markdown",
   "id": "cfb09465",
   "metadata": {},
   "source": [
    "<table align=\"center\" width=100%>\n",
    "        <tr>\n",
    "            <td>\n",
    "            <div align=\"left\">\n",
    "                    <font color=\"#21619\" size=4px>                 \n",
    "                        <b> Problem Statement\n",
    "                       </b>\n",
    "                        </font>\n",
    "                        </div>"
   ]
  },
  {
   "cell_type": "markdown",
   "id": "ea762825",
   "metadata": {},
   "source": [
    "Lending institutions, such as banks and credit unions, face financial risks when they provide loans. The possibility of loan defaults can result in substantial financial losses. Accurate risk assessment allows institutions to identify high-risk applicants and either decline their applications or offer loans with adjusted terms to mitigate potential losses.Assessing the likelihood of loan default is essential for financial institutions to maintain financial stability, comply with regulations, and ensure the well-being of their customers. It's a balance between profitability and risk management, all while contributing to economic stability and fairness in lending practices."
   ]
  },
  {
   "cell_type": "markdown",
   "id": "ff0c8b60",
   "metadata": {},
   "source": [
    "<table align=\"center\" width=100%>\n",
    "        <tr>\n",
    "            <td>\n",
    "            <div align=\"left\">\n",
    "                    <font color=\"#21619\" size=4px>                 \n",
    "                        <b> Objectives\n",
    "                       </b>\n",
    "                        </font>\n",
    "                        </div>"
   ]
  },
  {
   "cell_type": "markdown",
   "id": "28fc04f1",
   "metadata": {},
   "source": [
    "The primary objective of this project is to develop a robust machine learning model for predicting whether a loan applicant is likely to default on their loan, given their personal and financial information.  I aim to create and evaluate predictive models, perform feature selection and engineering, fine-tune hyperparameters, preprocess data, scale features, and provide actionable insights. Proper risk assessment ensures that lending decisions are fair and non-discriminatory. By assessing applicants based on objective criteria like their financial situation, institutions can reduce the potential for bias and ensure that credit is accessible to a wider range of borrowers."
   ]
  },
  {
   "cell_type": "markdown",
   "id": "1fca7f91",
   "metadata": {},
   "source": [
    "<table align=\"center\" width=100%>\n",
    "        <tr>\n",
    "            <td>\n",
    "            <div align=\"left\">\n",
    "                    <font color=\"#21619\" size=4px>                 \n",
    "                        <b> Classification Models\n",
    "                       </b>\n",
    "                        </font>\n",
    "                        </div>"
   ]
  },
  {
   "cell_type": "markdown",
   "id": "b3509e8b",
   "metadata": {},
   "source": [
    "* **Logistic Regression**\n",
    "* **K-Nearest Neighbors**\n",
    "* **Naive Bayes**\n",
    "* **Decision Tree Classifier**\n",
    "* **Random Forest Classifier**\n",
    "* **Ada Boost Classifier**\n",
    "* **Gradient Boost Classifier**\n",
    "* **Xtreme Gradient Boost Classifier**"
   ]
  },
  {
   "cell_type": "markdown",
   "id": "a4a94171",
   "metadata": {},
   "source": [
    "<table align=\"center\" width=100%>\n",
    "        <tr>\n",
    "            <td>\n",
    "            <div align=\"left\">\n",
    "                    <font color=\"#21619\" size=4px>                 \n",
    "                        <b> Data Description\n",
    "                       </b>\n",
    "                        </font>\n",
    "                        </div>"
   ]
  },
  {
   "cell_type": "markdown",
   "id": "78143d67",
   "metadata": {},
   "source": [
    "This dataset contains information about loan applicants and their attributes, with the goal of assessing the likelihood of loan default. "
   ]
  },
  {
   "cell_type": "markdown",
   "id": "f1275bc6",
   "metadata": {},
   "source": [
    "<table align=\"center\" width=100%>\n",
    "        <tr>\n",
    "            <td>\n",
    "            <div align=\"left\">\n",
    "                    <font color=\"#21619\" size=4px>                 \n",
    "                        <b> Data Dictionary\n",
    "                       </b>\n",
    "                        </font>\n",
    "                        </div>"
   ]
  },
  {
   "cell_type": "markdown",
   "id": "660cf231",
   "metadata": {},
   "source": [
    "1. **`Id`** : A unique identifier for each record.\n",
    "2. **`Age`** : The age of the loan applicant.\n",
    "3. **`Income`** : The annual income of the loan applicant.\n",
    "4. **`Home`** : The type of housing the applicant resides in (e.g., RENT, OWN, MORTGAGE).\n",
    "5. **`Emp_length`** : The length of employment in years.\n",
    "6. **`Intent`** : The purpose of the loan (e.g., PERSONAL, EDUCATION, MEDICAL).\n",
    "7. **`Amount`** : The loan amount requested.\n",
    "8. **`Rate`** : The interest rate on the loan.\n",
    "9. **`Status`** : A binary indicator of loan approval (1 for approved, 0 for not approved).\n",
    "10. **`Percent_income`** : The percentage of income dedicated to repaying the loan.\n",
    "11. **`Default`** : A binary indicator of loan default (Y for default, N for no default).\n",
    "12. **`Cred_length`** : The length of the applicant's credit history in years."
   ]
  },
  {
   "cell_type": "markdown",
   "id": "c0fc26e4",
   "metadata": {},
   "source": [
    "<table align=\"center\" width=100%>\n",
    "        <tr>\n",
    "            <td>\n",
    "            <div align=\"left\">\n",
    "                    <font color=\"#21619\" size=4px>                 \n",
    "                        <b> Content\n",
    "                       </b>\n",
    "                        </font>\n",
    "                        </div>"
   ]
  },
  {
   "cell_type": "markdown",
   "id": "f265505d",
   "metadata": {},
   "source": [
    "* 1. **[Import Libraries](#libraries)**\n",
    "\n",
    "* 2. **[Data Understanding](#dataunderstanding)**\n",
    "\n",
    "* 3. **[Explorator Data Analysis](#eda)**\n",
    "\n",
    "    * [3.1 Univariate analysis of cateogrical features (Count Plots)](#countplot)\n",
    "    * [3.2 Univariate analysis of numerical features (Box Plots)](boxplot)\n",
    "    * [3.3 Distribution of Target attribute](#target)\n",
    "    * [3.4 Relation between Target and numerical features](#relationship)\n",
    "    * [3.5 Heat map of Correlation among numerical features](#heatmap)\n",
    "    * [3.6 Statistical testing of correlation between target and numerical features(ANOVA)](#ANOVA)\n",
    "    \n",
    "* 4. **[Data Preprocessing](#datapre)**\n",
    "\n",
    "    * [4.1 Treating outliers using capping method](#outliers)\n",
    "    * [4.2 Transformation of numerical features using Yeo-Johnson method](#transformation)\n",
    "    * [4.3 Encoding categorical features using Label encoding](#encoding)\n",
    "    * [4.4 Scaling using Standard Scaler](#scaling)\n",
    "    * [4.5 Splitting dataset into train set and test set](#datasplit)\n",
    "    \n",
    "* 5. **[Model Building](#modelbuilding)**\n",
    "\n",
    "* 6. **[Model Comparison](#modelcomparison)**\n",
    "\n",
    "* 7. **[Model Evaluation](#modelevaluation)**\n",
    "\n",
    "     * [7.1 Accuracy Score](#accuracyscore)\n",
    "     * [7.2 Classificationi Report](#classificationreport)\n",
    "     * [7.3 Confusion Matrix](#confusionmatrix)\n",
    "     * [7.4 Cohen Kappa Score](#cohenkappascore)\n",
    "     * [7.5 ROC-AUC curve](#ROCAUC)\n",
    "     * [7.6 Youden's table](#youdenstable)\n",
    "    \n",
    "* 8. **[Conclusion](#conclusion)**"
   ]
  },
  {
   "cell_type": "markdown",
   "id": "49cc02a1",
   "metadata": {},
   "source": [
    "<a id=\"libraries\"> </a>\n",
    "\n",
    "<table align=\"center\" width=100%>\n",
    "        <tr>\n",
    "            <td>\n",
    "            <div align=\"left\">\n",
    "                    <font color=\"#21619\" size=5px>                 \n",
    "                        <b> 1. Import Libraries\n",
    "                       </b>\n",
    "                        </font>\n",
    "                        </div>\n"
   ]
  },
  {
   "cell_type": "code",
   "execution_count": 249,
   "id": "0677dab4",
   "metadata": {},
   "outputs": [],
   "source": [
    "# Import numpy for mathematical operations\n",
    "import numpy as np\n",
    "\n",
    "# Import pandas for manipulating and retrieving dataset\n",
    "import pandas as pd\n",
    "\n",
    "# Import matplotlib for visualization tools\n",
    "import matplotlib.pyplot as plt\n",
    "\n",
    "# Import seaborn for advanced visualization tools\n",
    "import seaborn as sns\n",
    "\n",
    "# Import stats module to perform statistical operations\n",
    "from scipy import stats\n",
    "\n",
    "# Import Power Transformer for transformation\n",
    "from sklearn.preprocessing import PowerTransformer\n",
    "\n",
    "# Import Label encoder for encoding categories\n",
    "from sklearn.preprocessing import LabelEncoder\n",
    "\n",
    "# Import train test split to split the dataset for training and testing\n",
    "from sklearn.model_selection import train_test_split\n",
    "\n",
    "# Import Standard Scaler for scaling numerical features\n",
    "from sklearn.preprocessing import StandardScaler\n",
    "\n",
    "# Import Logistic Regression model\n",
    "from sklearn.linear_model import LogisticRegression\n",
    "\n",
    "# Import KNN model\n",
    "from sklearn.neighbors import KNeighborsClassifier\n",
    "\n",
    "# Import Naive Bayes model\n",
    "from sklearn.naive_bayes import GaussianNB\n",
    "\n",
    "# Import Decision Tree classifier model\n",
    "from sklearn.tree import DecisionTreeClassifier\n",
    "\n",
    "# Import Random Forest Classifier model\n",
    "from sklearn.ensemble import RandomForestClassifier\n",
    "\n",
    "# Import Ada Boost Classifier model\n",
    "from sklearn.ensemble import AdaBoostClassifier\n",
    "\n",
    "# Import Gradient Boosting Classifier model\n",
    "from sklearn.ensemble import GradientBoostingClassifier\n",
    "\n",
    "# Import Xtreme Gradient Boost Classifier model\n",
    "from xgboost import XGBClassifier\n",
    "\n",
    "# Import statsmodels for OLS model\n",
    "import statsmodels.api as sm\n",
    "\n",
    "# Import metrics for evaluation\n",
    "from sklearn.metrics import accuracy_score,classification_report,confusion_matrix,cohen_kappa_score,roc_auc_score,roc_curve\n",
    "\n",
    "# Import Recursieve Feature Selector for feature selection\n",
    "from sklearn.feature_selection import RFECV\n",
    "\n",
    "# Import GridSearchCv for Hyperparameter tuning\n",
    "from sklearn.model_selection import GridSearchCV\n",
    "\n",
    "from sklearn.impute import KNNImputer\n",
    "\n",
    "# Suppress warnings\n",
    "import warnings\n",
    "warnings.filterwarnings(\"ignore\")"
   ]
  },
  {
   "cell_type": "code",
   "execution_count": 67,
   "id": "f149eea1",
   "metadata": {},
   "outputs": [],
   "source": [
    "df = pd.read_csv('credit_risk.csv')"
   ]
  },
  {
   "cell_type": "code",
   "execution_count": 68,
   "id": "95066b70",
   "metadata": {},
   "outputs": [
    {
     "data": {
      "text/html": [
       "<div>\n",
       "<style scoped>\n",
       "    .dataframe tbody tr th:only-of-type {\n",
       "        vertical-align: middle;\n",
       "    }\n",
       "\n",
       "    .dataframe tbody tr th {\n",
       "        vertical-align: top;\n",
       "    }\n",
       "\n",
       "    .dataframe thead th {\n",
       "        text-align: right;\n",
       "    }\n",
       "</style>\n",
       "<table border=\"1\" class=\"dataframe\">\n",
       "  <thead>\n",
       "    <tr style=\"text-align: right;\">\n",
       "      <th></th>\n",
       "      <th>Id</th>\n",
       "      <th>Age</th>\n",
       "      <th>Income</th>\n",
       "      <th>Home</th>\n",
       "      <th>Emp_length</th>\n",
       "      <th>Intent</th>\n",
       "      <th>Amount</th>\n",
       "      <th>Rate</th>\n",
       "      <th>Status</th>\n",
       "      <th>Percent_income</th>\n",
       "      <th>Default</th>\n",
       "      <th>Cred_length</th>\n",
       "    </tr>\n",
       "  </thead>\n",
       "  <tbody>\n",
       "    <tr>\n",
       "      <th>0</th>\n",
       "      <td>0</td>\n",
       "      <td>22</td>\n",
       "      <td>59000</td>\n",
       "      <td>RENT</td>\n",
       "      <td>123.0</td>\n",
       "      <td>PERSONAL</td>\n",
       "      <td>35000</td>\n",
       "      <td>16.02</td>\n",
       "      <td>1</td>\n",
       "      <td>0.59</td>\n",
       "      <td>Y</td>\n",
       "      <td>3</td>\n",
       "    </tr>\n",
       "    <tr>\n",
       "      <th>1</th>\n",
       "      <td>1</td>\n",
       "      <td>21</td>\n",
       "      <td>9600</td>\n",
       "      <td>OWN</td>\n",
       "      <td>5.0</td>\n",
       "      <td>EDUCATION</td>\n",
       "      <td>1000</td>\n",
       "      <td>11.14</td>\n",
       "      <td>0</td>\n",
       "      <td>0.10</td>\n",
       "      <td>N</td>\n",
       "      <td>2</td>\n",
       "    </tr>\n",
       "    <tr>\n",
       "      <th>2</th>\n",
       "      <td>2</td>\n",
       "      <td>25</td>\n",
       "      <td>9600</td>\n",
       "      <td>MORTGAGE</td>\n",
       "      <td>1.0</td>\n",
       "      <td>MEDICAL</td>\n",
       "      <td>5500</td>\n",
       "      <td>12.87</td>\n",
       "      <td>1</td>\n",
       "      <td>0.57</td>\n",
       "      <td>N</td>\n",
       "      <td>3</td>\n",
       "    </tr>\n",
       "    <tr>\n",
       "      <th>3</th>\n",
       "      <td>3</td>\n",
       "      <td>23</td>\n",
       "      <td>65500</td>\n",
       "      <td>RENT</td>\n",
       "      <td>4.0</td>\n",
       "      <td>MEDICAL</td>\n",
       "      <td>35000</td>\n",
       "      <td>15.23</td>\n",
       "      <td>1</td>\n",
       "      <td>0.53</td>\n",
       "      <td>N</td>\n",
       "      <td>2</td>\n",
       "    </tr>\n",
       "    <tr>\n",
       "      <th>4</th>\n",
       "      <td>4</td>\n",
       "      <td>24</td>\n",
       "      <td>54400</td>\n",
       "      <td>RENT</td>\n",
       "      <td>8.0</td>\n",
       "      <td>MEDICAL</td>\n",
       "      <td>35000</td>\n",
       "      <td>14.27</td>\n",
       "      <td>1</td>\n",
       "      <td>0.55</td>\n",
       "      <td>Y</td>\n",
       "      <td>4</td>\n",
       "    </tr>\n",
       "  </tbody>\n",
       "</table>\n",
       "</div>"
      ],
      "text/plain": [
       "   Id  Age  Income      Home  Emp_length     Intent  Amount   Rate  Status  \\\n",
       "0   0   22   59000      RENT       123.0   PERSONAL   35000  16.02       1   \n",
       "1   1   21    9600       OWN         5.0  EDUCATION    1000  11.14       0   \n",
       "2   2   25    9600  MORTGAGE         1.0    MEDICAL    5500  12.87       1   \n",
       "3   3   23   65500      RENT         4.0    MEDICAL   35000  15.23       1   \n",
       "4   4   24   54400      RENT         8.0    MEDICAL   35000  14.27       1   \n",
       "\n",
       "   Percent_income Default  Cred_length  \n",
       "0            0.59       Y            3  \n",
       "1            0.10       N            2  \n",
       "2            0.57       N            3  \n",
       "3            0.53       N            2  \n",
       "4            0.55       Y            4  "
      ]
     },
     "execution_count": 68,
     "metadata": {},
     "output_type": "execute_result"
    }
   ],
   "source": [
    "df.head()"
   ]
  },
  {
   "cell_type": "markdown",
   "id": "ff9a6bdc",
   "metadata": {},
   "source": [
    "<a id=\"dataunderstanding\"> </a>\n",
    "# 2. Data Understanding"
   ]
  },
  {
   "cell_type": "code",
   "execution_count": 69,
   "id": "15be1908",
   "metadata": {},
   "outputs": [
    {
     "name": "stdout",
     "output_type": "stream",
     "text": [
      "Number of rows:  32581\n",
      "Number of columns:  12\n"
     ]
    }
   ],
   "source": [
    "# Display number of rows and columns\n",
    "print(\"Number of rows: \",df.shape[0])\n",
    "print(\"Number of columns: \",df.shape[1])"
   ]
  },
  {
   "cell_type": "code",
   "execution_count": 70,
   "id": "9f66a5ab",
   "metadata": {},
   "outputs": [
    {
     "name": "stdout",
     "output_type": "stream",
     "text": [
      "<class 'pandas.core.frame.DataFrame'>\n",
      "RangeIndex: 32581 entries, 0 to 32580\n",
      "Data columns (total 12 columns):\n",
      " #   Column          Non-Null Count  Dtype  \n",
      "---  ------          --------------  -----  \n",
      " 0   Id              32581 non-null  int64  \n",
      " 1   Age             32581 non-null  int64  \n",
      " 2   Income          32581 non-null  int64  \n",
      " 3   Home            32581 non-null  object \n",
      " 4   Emp_length      31686 non-null  float64\n",
      " 5   Intent          32581 non-null  object \n",
      " 6   Amount          32581 non-null  int64  \n",
      " 7   Rate            29465 non-null  float64\n",
      " 8   Status          32581 non-null  int64  \n",
      " 9   Percent_income  32581 non-null  float64\n",
      " 10  Default         32581 non-null  object \n",
      " 11  Cred_length     32581 non-null  int64  \n",
      "dtypes: float64(3), int64(6), object(3)\n",
      "memory usage: 3.0+ MB\n"
     ]
    }
   ],
   "source": [
    "# Display basic information of the dataset\n",
    "df.info()"
   ]
  },
  {
   "cell_type": "markdown",
   "id": "b7809952",
   "metadata": {},
   "source": [
    "#### Converting the `Status` column into Category datatype "
   ]
  },
  {
   "cell_type": "code",
   "execution_count": 71,
   "id": "a9a74d27",
   "metadata": {},
   "outputs": [],
   "source": [
    "df['Status'] = df['Status'].astype(object)"
   ]
  },
  {
   "cell_type": "code",
   "execution_count": 72,
   "id": "8156deaa",
   "metadata": {},
   "outputs": [
    {
     "data": {
      "text/html": [
       "<div>\n",
       "<style scoped>\n",
       "    .dataframe tbody tr th:only-of-type {\n",
       "        vertical-align: middle;\n",
       "    }\n",
       "\n",
       "    .dataframe tbody tr th {\n",
       "        vertical-align: top;\n",
       "    }\n",
       "\n",
       "    .dataframe thead th {\n",
       "        text-align: right;\n",
       "    }\n",
       "</style>\n",
       "<table border=\"1\" class=\"dataframe\">\n",
       "  <thead>\n",
       "    <tr style=\"text-align: right;\">\n",
       "      <th></th>\n",
       "      <th>Id</th>\n",
       "      <th>Age</th>\n",
       "      <th>Income</th>\n",
       "      <th>Emp_length</th>\n",
       "      <th>Amount</th>\n",
       "      <th>Rate</th>\n",
       "      <th>Percent_income</th>\n",
       "      <th>Cred_length</th>\n",
       "    </tr>\n",
       "  </thead>\n",
       "  <tbody>\n",
       "    <tr>\n",
       "      <th>count</th>\n",
       "      <td>32581.000000</td>\n",
       "      <td>32581.000000</td>\n",
       "      <td>3.258100e+04</td>\n",
       "      <td>31686.000000</td>\n",
       "      <td>32581.000000</td>\n",
       "      <td>29465.000000</td>\n",
       "      <td>32581.000000</td>\n",
       "      <td>32581.000000</td>\n",
       "    </tr>\n",
       "    <tr>\n",
       "      <th>mean</th>\n",
       "      <td>16290.006139</td>\n",
       "      <td>27.734600</td>\n",
       "      <td>6.607485e+04</td>\n",
       "      <td>4.789686</td>\n",
       "      <td>9589.371106</td>\n",
       "      <td>11.011695</td>\n",
       "      <td>0.170203</td>\n",
       "      <td>5.804211</td>\n",
       "    </tr>\n",
       "    <tr>\n",
       "      <th>std</th>\n",
       "      <td>9405.479594</td>\n",
       "      <td>6.348078</td>\n",
       "      <td>6.198312e+04</td>\n",
       "      <td>4.142630</td>\n",
       "      <td>6322.086646</td>\n",
       "      <td>3.240459</td>\n",
       "      <td>0.106782</td>\n",
       "      <td>4.055001</td>\n",
       "    </tr>\n",
       "    <tr>\n",
       "      <th>min</th>\n",
       "      <td>0.000000</td>\n",
       "      <td>20.000000</td>\n",
       "      <td>4.000000e+03</td>\n",
       "      <td>0.000000</td>\n",
       "      <td>500.000000</td>\n",
       "      <td>5.420000</td>\n",
       "      <td>0.000000</td>\n",
       "      <td>2.000000</td>\n",
       "    </tr>\n",
       "    <tr>\n",
       "      <th>25%</th>\n",
       "      <td>8145.000000</td>\n",
       "      <td>23.000000</td>\n",
       "      <td>3.850000e+04</td>\n",
       "      <td>2.000000</td>\n",
       "      <td>5000.000000</td>\n",
       "      <td>7.900000</td>\n",
       "      <td>0.090000</td>\n",
       "      <td>3.000000</td>\n",
       "    </tr>\n",
       "    <tr>\n",
       "      <th>50%</th>\n",
       "      <td>16290.000000</td>\n",
       "      <td>26.000000</td>\n",
       "      <td>5.500000e+04</td>\n",
       "      <td>4.000000</td>\n",
       "      <td>8000.000000</td>\n",
       "      <td>10.990000</td>\n",
       "      <td>0.150000</td>\n",
       "      <td>4.000000</td>\n",
       "    </tr>\n",
       "    <tr>\n",
       "      <th>75%</th>\n",
       "      <td>24435.000000</td>\n",
       "      <td>30.000000</td>\n",
       "      <td>7.920000e+04</td>\n",
       "      <td>7.000000</td>\n",
       "      <td>12200.000000</td>\n",
       "      <td>13.470000</td>\n",
       "      <td>0.230000</td>\n",
       "      <td>8.000000</td>\n",
       "    </tr>\n",
       "    <tr>\n",
       "      <th>max</th>\n",
       "      <td>32780.000000</td>\n",
       "      <td>144.000000</td>\n",
       "      <td>6.000000e+06</td>\n",
       "      <td>123.000000</td>\n",
       "      <td>35000.000000</td>\n",
       "      <td>23.220000</td>\n",
       "      <td>0.830000</td>\n",
       "      <td>30.000000</td>\n",
       "    </tr>\n",
       "  </tbody>\n",
       "</table>\n",
       "</div>"
      ],
      "text/plain": [
       "                 Id           Age        Income    Emp_length        Amount  \\\n",
       "count  32581.000000  32581.000000  3.258100e+04  31686.000000  32581.000000   \n",
       "mean   16290.006139     27.734600  6.607485e+04      4.789686   9589.371106   \n",
       "std     9405.479594      6.348078  6.198312e+04      4.142630   6322.086646   \n",
       "min        0.000000     20.000000  4.000000e+03      0.000000    500.000000   \n",
       "25%     8145.000000     23.000000  3.850000e+04      2.000000   5000.000000   \n",
       "50%    16290.000000     26.000000  5.500000e+04      4.000000   8000.000000   \n",
       "75%    24435.000000     30.000000  7.920000e+04      7.000000  12200.000000   \n",
       "max    32780.000000    144.000000  6.000000e+06    123.000000  35000.000000   \n",
       "\n",
       "               Rate  Percent_income   Cred_length  \n",
       "count  29465.000000    32581.000000  32581.000000  \n",
       "mean      11.011695        0.170203      5.804211  \n",
       "std        3.240459        0.106782      4.055001  \n",
       "min        5.420000        0.000000      2.000000  \n",
       "25%        7.900000        0.090000      3.000000  \n",
       "50%       10.990000        0.150000      4.000000  \n",
       "75%       13.470000        0.230000      8.000000  \n",
       "max       23.220000        0.830000     30.000000  "
      ]
     },
     "execution_count": 72,
     "metadata": {},
     "output_type": "execute_result"
    }
   ],
   "source": [
    "# Descriptive statistics of numerical columns\n",
    "df.describe()"
   ]
  },
  {
   "cell_type": "code",
   "execution_count": 73,
   "id": "9982d0dd",
   "metadata": {},
   "outputs": [],
   "source": [
    "# Drop numerical columns which contributes no information\n",
    "df.drop([\"Id\"],axis=1,inplace=True)"
   ]
  },
  {
   "cell_type": "code",
   "execution_count": 74,
   "id": "2c842986",
   "metadata": {},
   "outputs": [
    {
     "data": {
      "text/html": [
       "<div>\n",
       "<style scoped>\n",
       "    .dataframe tbody tr th:only-of-type {\n",
       "        vertical-align: middle;\n",
       "    }\n",
       "\n",
       "    .dataframe tbody tr th {\n",
       "        vertical-align: top;\n",
       "    }\n",
       "\n",
       "    .dataframe thead th {\n",
       "        text-align: right;\n",
       "    }\n",
       "</style>\n",
       "<table border=\"1\" class=\"dataframe\">\n",
       "  <thead>\n",
       "    <tr style=\"text-align: right;\">\n",
       "      <th></th>\n",
       "      <th>Home</th>\n",
       "      <th>Intent</th>\n",
       "      <th>Status</th>\n",
       "      <th>Default</th>\n",
       "    </tr>\n",
       "  </thead>\n",
       "  <tbody>\n",
       "    <tr>\n",
       "      <th>count</th>\n",
       "      <td>32581</td>\n",
       "      <td>32581</td>\n",
       "      <td>32581</td>\n",
       "      <td>32581</td>\n",
       "    </tr>\n",
       "    <tr>\n",
       "      <th>unique</th>\n",
       "      <td>4</td>\n",
       "      <td>6</td>\n",
       "      <td>2</td>\n",
       "      <td>2</td>\n",
       "    </tr>\n",
       "    <tr>\n",
       "      <th>top</th>\n",
       "      <td>RENT</td>\n",
       "      <td>EDUCATION</td>\n",
       "      <td>0</td>\n",
       "      <td>N</td>\n",
       "    </tr>\n",
       "    <tr>\n",
       "      <th>freq</th>\n",
       "      <td>16446</td>\n",
       "      <td>6453</td>\n",
       "      <td>25473</td>\n",
       "      <td>26836</td>\n",
       "    </tr>\n",
       "  </tbody>\n",
       "</table>\n",
       "</div>"
      ],
      "text/plain": [
       "         Home     Intent  Status Default\n",
       "count   32581      32581   32581   32581\n",
       "unique      4          6       2       2\n",
       "top      RENT  EDUCATION       0       N\n",
       "freq    16446       6453   25473   26836"
      ]
     },
     "execution_count": 74,
     "metadata": {},
     "output_type": "execute_result"
    }
   ],
   "source": [
    "# Descriptive statistics of cateogorical columns\n",
    "df.describe(include=object)"
   ]
  },
  {
   "cell_type": "code",
   "execution_count": 75,
   "id": "9071da5e",
   "metadata": {},
   "outputs": [],
   "source": [
    "# Split dataset into numerical and categorical\n",
    "df_num = df.select_dtypes(include=np.number)\n",
    "df_cat = df.select_dtypes(include=object)"
   ]
  },
  {
   "cell_type": "code",
   "execution_count": 76,
   "id": "14f73945",
   "metadata": {},
   "outputs": [
    {
     "data": {
      "text/plain": [
       "Age               0.000000\n",
       "Income            0.000000\n",
       "Home              0.000000\n",
       "Emp_length        2.747000\n",
       "Intent            0.000000\n",
       "Amount            0.000000\n",
       "Rate              9.563856\n",
       "Status            0.000000\n",
       "Percent_income    0.000000\n",
       "Default           0.000000\n",
       "Cred_length       0.000000\n",
       "dtype: float64"
      ]
     },
     "execution_count": 76,
     "metadata": {},
     "output_type": "execute_result"
    }
   ],
   "source": [
    "# Checking for missing values\n",
    "df.isnull().sum()/len(df)*100"
   ]
  },
  {
   "cell_type": "markdown",
   "id": "a4cb354d",
   "metadata": {},
   "source": [
    "<a id=\"eda\"> </a>\n",
    "# 3. Exploratory Data Analysis"
   ]
  },
  {
   "cell_type": "markdown",
   "id": "49ddcb27",
   "metadata": {},
   "source": [
    "<a id=\"countplot\"> </a>\n",
    "### Count plots for categorical data"
   ]
  },
  {
   "cell_type": "code",
   "execution_count": 77,
   "id": "2fb785ef",
   "metadata": {},
   "outputs": [
    {
     "data": {
      "image/png": "[encoded data removed]",
      "text/plain": [
       "<Figure size 2160x720 with 3 Axes>"
      ]
     },
     "metadata": {
      "needs_background": "light"
     },
     "output_type": "display_data"
    }
   ],
   "source": [
    "fig,subplots = plt.subplots(1,3,figsize=(30,10))\n",
    "\n",
    "for col,axis in zip(df_cat.columns,subplots.flatten()):\n",
    "    plt.title(col)\n",
    "    sns.countplot(y =df_cat[col],ax=axis)\n",
    "plt.show()"
   ]
  },
  {
   "cell_type": "markdown",
   "id": "ec8bf491",
   "metadata": {},
   "source": [
    "<a id=\"boxplot\"> </a>\n",
    "### Box Plots for numerical data"
   ]
  },
  {
   "cell_type": "code",
   "execution_count": 78,
   "id": "eb02c3de",
   "metadata": {},
   "outputs": [
    {
     "data": {
      "image/png": "[encoded data removed]",
      "text/plain": [
       "<Figure size 1440x1440 with 9 Axes>"
      ]
     },
     "metadata": {
      "needs_background": "light"
     },
     "output_type": "display_data"
    }
   ],
   "source": [
    "fig,subplots = plt.subplots(3,3,figsize=(20,20))\n",
    "for col,axis in zip(df_num.columns,subplots.flatten()):\n",
    "    plt.title(col)\n",
    "    sns.boxplot(y=df_num[col],ax=axis)\n",
    "plt.show()"
   ]
  },
  {
   "cell_type": "markdown",
   "id": "84e2acb3",
   "metadata": {},
   "source": [
    "We can observe outliers present in some of the columns."
   ]
  },
  {
   "cell_type": "markdown",
   "id": "1fe2612c",
   "metadata": {},
   "source": [
    "<a id=\"target\"> </a>\n",
    "### Distribution of Target feature"
   ]
  },
  {
   "cell_type": "code",
   "execution_count": 79,
   "id": "fa474305",
   "metadata": {},
   "outputs": [
    {
     "data": {
      "image/png": "[encoded data removed]",
      "text/plain": [
       "<Figure size 432x288 with 1 Axes>"
      ]
     },
     "metadata": {
      "needs_background": "light"
     },
     "output_type": "display_data"
    }
   ],
   "source": [
    "sns.countplot(x = df[\"Default\"])\n",
    "plt.show()"
   ]
  },
  {
   "cell_type": "markdown",
   "id": "422b0b55",
   "metadata": {},
   "source": [
    "1. The target column is unevenly distributed.\n",
    "2. We can use SMOTE to introduce synthetic data into our dataset."
   ]
  },
  {
   "cell_type": "markdown",
   "id": "da9a3c23",
   "metadata": {},
   "source": [
    "<a id=\"relationship\"> </a>\n",
    "### Distribution of numerical columns with respect to target column"
   ]
  },
  {
   "cell_type": "code",
   "execution_count": 80,
   "id": "1a838291",
   "metadata": {},
   "outputs": [
    {
     "data": {
      "image/png": "[encoded data removed]",
      "text/plain": [
       "<Figure size 1440x1440 with 9 Axes>"
      ]
     },
     "metadata": {
      "needs_background": "light"
     },
     "output_type": "display_data"
    }
   ],
   "source": [
    "fig,subplots = plt.subplots(3,3,figsize=(20,20))\n",
    "for col,axis in zip(df_num.columns,subplots.flatten()):\n",
    "    plt.title(col)\n",
    "    sns.boxplot(y=df_num[col],x=df[\"Default\"],ax=axis)\n",
    "plt.show()"
   ]
  },
  {
   "cell_type": "markdown",
   "id": "52370256",
   "metadata": {},
   "source": [
    "<a id=\"heatmap\"> </a>\n",
    "### Heat map of correlation"
   ]
  },
  {
   "cell_type": "code",
   "execution_count": 81,
   "id": "ff09d5d4",
   "metadata": {},
   "outputs": [
    {
     "data": {
      "image/png": "[encoded data removed]",
      "text/plain": [
       "<Figure size 432x432 with 2 Axes>"
      ]
     },
     "metadata": {
      "needs_background": "light"
     },
     "output_type": "display_data"
    }
   ],
   "source": [
    "plt.figure(figsize=(6,6))\n",
    "sns.heatmap(df_num.corr()[(df_num.corr() > 0.7) | (df_num.corr() < -0.7)],annot=True)\n",
    "plt.show()"
   ]
  },
  {
   "cell_type": "markdown",
   "id": "2ff11e3b",
   "metadata": {},
   "source": [
    "We can see `cred_length` and `age` are highly correlated.\n",
    "We can choose to drop any one of those columns after doing the ANOVA test."
   ]
  },
  {
   "cell_type": "markdown",
   "id": "25c38d0b",
   "metadata": {},
   "source": [
    "<a id=\"ANOVA\"> </a>\n",
    "### ANOVA test for correlationi between target and numerical features"
   ]
  },
  {
   "cell_type": "code",
   "execution_count": 82,
   "id": "c14b155f",
   "metadata": {},
   "outputs": [
    {
     "name": "stdout",
     "output_type": "stream",
     "text": [
      "P-value for correlation between Attrition and Age  :  0.29\n",
      "P-value for correlation between Attrition and Income  :  0.51\n",
      "P-value for correlation between Attrition and Emp_length  :  0.0\n",
      "P-value for correlation between Attrition and Amount  :  0.0\n",
      "P-value for correlation between Attrition and Rate  :  0.0\n",
      "P-value for correlation between Attrition and Percent_income  :  0.0\n",
      "P-value for correlation between Attrition and Cred_length  :  0.41\n"
     ]
    }
   ],
   "source": [
    "for col in df_num.columns:\n",
    "    yes = df_num[col][df['Default']== 'Y'].dropna().values\n",
    "    no = df_num[col][df['Default']=='N'].dropna().values\n",
    "    statistic,p_value = stats.f_oneway(yes,no)    #f_oneway is anova only\n",
    "    print(\"P-value for correlation between Attrition and\",col,\" : \",round(p_value,2))"
   ]
  },
  {
   "cell_type": "markdown",
   "id": "5935cc51",
   "metadata": {},
   "source": [
    "<a id=\"datapre\"> </a>\n",
    "# 4. Data Preprocessing"
   ]
  },
  {
   "cell_type": "markdown",
   "id": "a1df89ab",
   "metadata": {},
   "source": [
    "### 1. Duplicates"
   ]
  },
  {
   "cell_type": "code",
   "execution_count": 83,
   "id": "5a56784f",
   "metadata": {},
   "outputs": [
    {
     "data": {
      "text/plain": [
       "165"
      ]
     },
     "execution_count": 83,
     "metadata": {},
     "output_type": "execute_result"
    }
   ],
   "source": [
    "df.duplicated().sum()"
   ]
  },
  {
   "cell_type": "code",
   "execution_count": 84,
   "id": "bedf80b0",
   "metadata": {},
   "outputs": [],
   "source": [
    "df.drop_duplicates(inplace=True)"
   ]
  },
  {
   "cell_type": "code",
   "execution_count": 85,
   "id": "026d68d1",
   "metadata": {},
   "outputs": [
    {
     "data": {
      "text/plain": [
       "0"
      ]
     },
     "execution_count": 85,
     "metadata": {},
     "output_type": "execute_result"
    }
   ],
   "source": [
    "df.duplicated().sum()"
   ]
  },
  {
   "cell_type": "code",
   "execution_count": 86,
   "id": "ebfe5331",
   "metadata": {},
   "outputs": [],
   "source": [
    "df_num = df.select_dtypes(include=np.number)\n",
    "df_cat = df.select_dtypes(exclude=np.number)"
   ]
  },
  {
   "cell_type": "code",
   "execution_count": 87,
   "id": "6221c69e",
   "metadata": {},
   "outputs": [
    {
     "data": {
      "text/plain": [
       "(32416, 7)"
      ]
     },
     "execution_count": 87,
     "metadata": {},
     "output_type": "execute_result"
    }
   ],
   "source": [
    "df_num.shape"
   ]
  },
  {
   "cell_type": "code",
   "execution_count": 88,
   "id": "aaf017bb",
   "metadata": {},
   "outputs": [
    {
     "data": {
      "text/plain": [
       "(32416, 4)"
      ]
     },
     "execution_count": 88,
     "metadata": {},
     "output_type": "execute_result"
    }
   ],
   "source": [
    "df_cat.shape"
   ]
  },
  {
   "cell_type": "markdown",
   "id": "4bbd95d6",
   "metadata": {},
   "source": [
    "### 2. Null Values"
   ]
  },
  {
   "cell_type": "code",
   "execution_count": 89,
   "id": "55d9dc45",
   "metadata": {},
   "outputs": [
    {
     "data": {
      "text/plain": [
       "Age                  0\n",
       "Income               0\n",
       "Home                 0\n",
       "Emp_length         887\n",
       "Intent               0\n",
       "Amount               0\n",
       "Rate              3095\n",
       "Status               0\n",
       "Percent_income       0\n",
       "Default              0\n",
       "Cred_length          0\n",
       "dtype: int64"
      ]
     },
     "execution_count": 89,
     "metadata": {},
     "output_type": "execute_result"
    }
   ],
   "source": [
    "df.isnull().sum()"
   ]
  },
  {
   "cell_type": "code",
   "execution_count": 90,
   "id": "d38845b8",
   "metadata": {},
   "outputs": [],
   "source": [
    "knnimputer = KNNImputer(n_neighbors=5)\n",
    "\n",
    "df_num = pd.DataFrame(knnimputer.fit_transform(df_num),columns = df_num.columns)"
   ]
  },
  {
   "cell_type": "code",
   "execution_count": 91,
   "id": "7c347022",
   "metadata": {},
   "outputs": [
    {
     "data": {
      "text/html": [
       "<div>\n",
       "<style scoped>\n",
       "    .dataframe tbody tr th:only-of-type {\n",
       "        vertical-align: middle;\n",
       "    }\n",
       "\n",
       "    .dataframe tbody tr th {\n",
       "        vertical-align: top;\n",
       "    }\n",
       "\n",
       "    .dataframe thead th {\n",
       "        text-align: right;\n",
       "    }\n",
       "</style>\n",
       "<table border=\"1\" class=\"dataframe\">\n",
       "  <thead>\n",
       "    <tr style=\"text-align: right;\">\n",
       "      <th></th>\n",
       "      <th>Age</th>\n",
       "      <th>Income</th>\n",
       "      <th>Emp_length</th>\n",
       "      <th>Amount</th>\n",
       "      <th>Rate</th>\n",
       "      <th>Percent_income</th>\n",
       "      <th>Cred_length</th>\n",
       "    </tr>\n",
       "  </thead>\n",
       "  <tbody>\n",
       "    <tr>\n",
       "      <th>0</th>\n",
       "      <td>22.0</td>\n",
       "      <td>59000.0</td>\n",
       "      <td>123.0</td>\n",
       "      <td>35000.0</td>\n",
       "      <td>16.02</td>\n",
       "      <td>0.59</td>\n",
       "      <td>3.0</td>\n",
       "    </tr>\n",
       "    <tr>\n",
       "      <th>1</th>\n",
       "      <td>21.0</td>\n",
       "      <td>9600.0</td>\n",
       "      <td>5.0</td>\n",
       "      <td>1000.0</td>\n",
       "      <td>11.14</td>\n",
       "      <td>0.10</td>\n",
       "      <td>2.0</td>\n",
       "    </tr>\n",
       "    <tr>\n",
       "      <th>2</th>\n",
       "      <td>25.0</td>\n",
       "      <td>9600.0</td>\n",
       "      <td>1.0</td>\n",
       "      <td>5500.0</td>\n",
       "      <td>12.87</td>\n",
       "      <td>0.57</td>\n",
       "      <td>3.0</td>\n",
       "    </tr>\n",
       "    <tr>\n",
       "      <th>3</th>\n",
       "      <td>23.0</td>\n",
       "      <td>65500.0</td>\n",
       "      <td>4.0</td>\n",
       "      <td>35000.0</td>\n",
       "      <td>15.23</td>\n",
       "      <td>0.53</td>\n",
       "      <td>2.0</td>\n",
       "    </tr>\n",
       "    <tr>\n",
       "      <th>4</th>\n",
       "      <td>24.0</td>\n",
       "      <td>54400.0</td>\n",
       "      <td>8.0</td>\n",
       "      <td>35000.0</td>\n",
       "      <td>14.27</td>\n",
       "      <td>0.55</td>\n",
       "      <td>4.0</td>\n",
       "    </tr>\n",
       "    <tr>\n",
       "      <th>...</th>\n",
       "      <td>...</td>\n",
       "      <td>...</td>\n",
       "      <td>...</td>\n",
       "      <td>...</td>\n",
       "      <td>...</td>\n",
       "      <td>...</td>\n",
       "      <td>...</td>\n",
       "    </tr>\n",
       "    <tr>\n",
       "      <th>32411</th>\n",
       "      <td>57.0</td>\n",
       "      <td>53000.0</td>\n",
       "      <td>1.0</td>\n",
       "      <td>5800.0</td>\n",
       "      <td>13.16</td>\n",
       "      <td>0.11</td>\n",
       "      <td>30.0</td>\n",
       "    </tr>\n",
       "    <tr>\n",
       "      <th>32412</th>\n",
       "      <td>54.0</td>\n",
       "      <td>120000.0</td>\n",
       "      <td>4.0</td>\n",
       "      <td>17625.0</td>\n",
       "      <td>7.49</td>\n",
       "      <td>0.15</td>\n",
       "      <td>19.0</td>\n",
       "    </tr>\n",
       "    <tr>\n",
       "      <th>32413</th>\n",
       "      <td>65.0</td>\n",
       "      <td>76000.0</td>\n",
       "      <td>3.0</td>\n",
       "      <td>35000.0</td>\n",
       "      <td>10.99</td>\n",
       "      <td>0.46</td>\n",
       "      <td>28.0</td>\n",
       "    </tr>\n",
       "    <tr>\n",
       "      <th>32414</th>\n",
       "      <td>56.0</td>\n",
       "      <td>150000.0</td>\n",
       "      <td>5.0</td>\n",
       "      <td>15000.0</td>\n",
       "      <td>11.48</td>\n",
       "      <td>0.10</td>\n",
       "      <td>26.0</td>\n",
       "    </tr>\n",
       "    <tr>\n",
       "      <th>32415</th>\n",
       "      <td>66.0</td>\n",
       "      <td>42000.0</td>\n",
       "      <td>2.0</td>\n",
       "      <td>6475.0</td>\n",
       "      <td>9.99</td>\n",
       "      <td>0.15</td>\n",
       "      <td>30.0</td>\n",
       "    </tr>\n",
       "  </tbody>\n",
       "</table>\n",
       "<p>32416 rows × 7 columns</p>\n",
       "</div>"
      ],
      "text/plain": [
       "        Age    Income  Emp_length   Amount   Rate  Percent_income  Cred_length\n",
       "0      22.0   59000.0       123.0  35000.0  16.02            0.59          3.0\n",
       "1      21.0    9600.0         5.0   1000.0  11.14            0.10          2.0\n",
       "2      25.0    9600.0         1.0   5500.0  12.87            0.57          3.0\n",
       "3      23.0   65500.0         4.0  35000.0  15.23            0.53          2.0\n",
       "4      24.0   54400.0         8.0  35000.0  14.27            0.55          4.0\n",
       "...     ...       ...         ...      ...    ...             ...          ...\n",
       "32411  57.0   53000.0         1.0   5800.0  13.16            0.11         30.0\n",
       "32412  54.0  120000.0         4.0  17625.0   7.49            0.15         19.0\n",
       "32413  65.0   76000.0         3.0  35000.0  10.99            0.46         28.0\n",
       "32414  56.0  150000.0         5.0  15000.0  11.48            0.10         26.0\n",
       "32415  66.0   42000.0         2.0   6475.0   9.99            0.15         30.0\n",
       "\n",
       "[32416 rows x 7 columns]"
      ]
     },
     "execution_count": 91,
     "metadata": {},
     "output_type": "execute_result"
    }
   ],
   "source": [
    "df_num"
   ]
  },
  {
   "cell_type": "code",
   "execution_count": 92,
   "id": "d1cd57c6",
   "metadata": {},
   "outputs": [
    {
     "data": {
      "text/plain": [
       "Age               0\n",
       "Income            0\n",
       "Emp_length        0\n",
       "Amount            0\n",
       "Rate              0\n",
       "Percent_income    0\n",
       "Cred_length       0\n",
       "dtype: int64"
      ]
     },
     "execution_count": 92,
     "metadata": {},
     "output_type": "execute_result"
    }
   ],
   "source": [
    "df_num.isnull().sum()"
   ]
  },
  {
   "cell_type": "markdown",
   "id": "0f91c1b7",
   "metadata": {},
   "source": [
    "<a id=\"outliers\"> </a>\n",
    "### Treatment of Outliers using the capping method"
   ]
  },
  {
   "cell_type": "code",
   "execution_count": 93,
   "id": "57c4441c",
   "metadata": {},
   "outputs": [],
   "source": [
    "for i in df_num.columns:\n",
    "    Q1 = np.quantile(df_num[i],0.25)      #defining the Q1\n",
    "    Q3 = np.quantile(df_num[i],0.75)      #defining the Q3\n",
    "    IQR = Q3-Q1                           #defining the IQR\n",
    "    ul = Q3+(IQR*1.5)                     #upper limit            \n",
    "    ll = Q1-(IQR*1.5)                     #lower limit\n",
    "    for j in df_num.index:                #every row\n",
    "        if df_num.loc[j,i]<ll:            # if the each and every value of every column is less than Lower limit then put it in lowerlimit band\n",
    "            df_num.loc[j,i]=ll\n",
    "        elif df_num.loc[j,i]>ul:\n",
    "            df_num.loc[j,i] = ul"
   ]
  },
  {
   "cell_type": "code",
   "execution_count": 94,
   "id": "7575ba2f",
   "metadata": {},
   "outputs": [
    {
     "data": {
      "text/html": [
       "<div>\n",
       "<style scoped>\n",
       "    .dataframe tbody tr th:only-of-type {\n",
       "        vertical-align: middle;\n",
       "    }\n",
       "\n",
       "    .dataframe tbody tr th {\n",
       "        vertical-align: top;\n",
       "    }\n",
       "\n",
       "    .dataframe thead th {\n",
       "        text-align: right;\n",
       "    }\n",
       "</style>\n",
       "<table border=\"1\" class=\"dataframe\">\n",
       "  <thead>\n",
       "    <tr style=\"text-align: right;\">\n",
       "      <th></th>\n",
       "      <th>Age</th>\n",
       "      <th>Income</th>\n",
       "      <th>Emp_length</th>\n",
       "      <th>Amount</th>\n",
       "      <th>Rate</th>\n",
       "      <th>Percent_income</th>\n",
       "      <th>Cred_length</th>\n",
       "    </tr>\n",
       "  </thead>\n",
       "  <tbody>\n",
       "    <tr>\n",
       "      <th>0</th>\n",
       "      <td>22.0</td>\n",
       "      <td>59000.0</td>\n",
       "      <td>14.5</td>\n",
       "      <td>23125.0</td>\n",
       "      <td>16.02</td>\n",
       "      <td>0.44</td>\n",
       "      <td>3.0</td>\n",
       "    </tr>\n",
       "    <tr>\n",
       "      <th>1</th>\n",
       "      <td>21.0</td>\n",
       "      <td>9600.0</td>\n",
       "      <td>5.0</td>\n",
       "      <td>1000.0</td>\n",
       "      <td>11.14</td>\n",
       "      <td>0.10</td>\n",
       "      <td>2.0</td>\n",
       "    </tr>\n",
       "    <tr>\n",
       "      <th>2</th>\n",
       "      <td>25.0</td>\n",
       "      <td>9600.0</td>\n",
       "      <td>1.0</td>\n",
       "      <td>5500.0</td>\n",
       "      <td>12.87</td>\n",
       "      <td>0.44</td>\n",
       "      <td>3.0</td>\n",
       "    </tr>\n",
       "    <tr>\n",
       "      <th>3</th>\n",
       "      <td>23.0</td>\n",
       "      <td>65500.0</td>\n",
       "      <td>4.0</td>\n",
       "      <td>23125.0</td>\n",
       "      <td>15.23</td>\n",
       "      <td>0.44</td>\n",
       "      <td>2.0</td>\n",
       "    </tr>\n",
       "    <tr>\n",
       "      <th>4</th>\n",
       "      <td>24.0</td>\n",
       "      <td>54400.0</td>\n",
       "      <td>8.0</td>\n",
       "      <td>23125.0</td>\n",
       "      <td>14.27</td>\n",
       "      <td>0.44</td>\n",
       "      <td>4.0</td>\n",
       "    </tr>\n",
       "    <tr>\n",
       "      <th>...</th>\n",
       "      <td>...</td>\n",
       "      <td>...</td>\n",
       "      <td>...</td>\n",
       "      <td>...</td>\n",
       "      <td>...</td>\n",
       "      <td>...</td>\n",
       "      <td>...</td>\n",
       "    </tr>\n",
       "    <tr>\n",
       "      <th>32411</th>\n",
       "      <td>40.5</td>\n",
       "      <td>53000.0</td>\n",
       "      <td>1.0</td>\n",
       "      <td>5800.0</td>\n",
       "      <td>13.16</td>\n",
       "      <td>0.11</td>\n",
       "      <td>15.5</td>\n",
       "    </tr>\n",
       "    <tr>\n",
       "      <th>32412</th>\n",
       "      <td>40.5</td>\n",
       "      <td>120000.0</td>\n",
       "      <td>4.0</td>\n",
       "      <td>17625.0</td>\n",
       "      <td>7.49</td>\n",
       "      <td>0.15</td>\n",
       "      <td>15.5</td>\n",
       "    </tr>\n",
       "    <tr>\n",
       "      <th>32413</th>\n",
       "      <td>40.5</td>\n",
       "      <td>76000.0</td>\n",
       "      <td>3.0</td>\n",
       "      <td>23125.0</td>\n",
       "      <td>10.99</td>\n",
       "      <td>0.44</td>\n",
       "      <td>15.5</td>\n",
       "    </tr>\n",
       "    <tr>\n",
       "      <th>32414</th>\n",
       "      <td>40.5</td>\n",
       "      <td>140232.0</td>\n",
       "      <td>5.0</td>\n",
       "      <td>15000.0</td>\n",
       "      <td>11.48</td>\n",
       "      <td>0.10</td>\n",
       "      <td>15.5</td>\n",
       "    </tr>\n",
       "    <tr>\n",
       "      <th>32415</th>\n",
       "      <td>40.5</td>\n",
       "      <td>42000.0</td>\n",
       "      <td>2.0</td>\n",
       "      <td>6475.0</td>\n",
       "      <td>9.99</td>\n",
       "      <td>0.15</td>\n",
       "      <td>15.5</td>\n",
       "    </tr>\n",
       "  </tbody>\n",
       "</table>\n",
       "<p>32416 rows × 7 columns</p>\n",
       "</div>"
      ],
      "text/plain": [
       "        Age    Income  Emp_length   Amount   Rate  Percent_income  Cred_length\n",
       "0      22.0   59000.0        14.5  23125.0  16.02            0.44          3.0\n",
       "1      21.0    9600.0         5.0   1000.0  11.14            0.10          2.0\n",
       "2      25.0    9600.0         1.0   5500.0  12.87            0.44          3.0\n",
       "3      23.0   65500.0         4.0  23125.0  15.23            0.44          2.0\n",
       "4      24.0   54400.0         8.0  23125.0  14.27            0.44          4.0\n",
       "...     ...       ...         ...      ...    ...             ...          ...\n",
       "32411  40.5   53000.0         1.0   5800.0  13.16            0.11         15.5\n",
       "32412  40.5  120000.0         4.0  17625.0   7.49            0.15         15.5\n",
       "32413  40.5   76000.0         3.0  23125.0  10.99            0.44         15.5\n",
       "32414  40.5  140232.0         5.0  15000.0  11.48            0.10         15.5\n",
       "32415  40.5   42000.0         2.0   6475.0   9.99            0.15         15.5\n",
       "\n",
       "[32416 rows x 7 columns]"
      ]
     },
     "execution_count": 94,
     "metadata": {},
     "output_type": "execute_result"
    }
   ],
   "source": [
    "df_num"
   ]
  },
  {
   "cell_type": "code",
   "execution_count": 95,
   "id": "e8ce5d66",
   "metadata": {},
   "outputs": [
    {
     "data": {
      "text/html": [
       "<div>\n",
       "<style scoped>\n",
       "    .dataframe tbody tr th:only-of-type {\n",
       "        vertical-align: middle;\n",
       "    }\n",
       "\n",
       "    .dataframe tbody tr th {\n",
       "        vertical-align: top;\n",
       "    }\n",
       "\n",
       "    .dataframe thead th {\n",
       "        text-align: right;\n",
       "    }\n",
       "</style>\n",
       "<table border=\"1\" class=\"dataframe\">\n",
       "  <thead>\n",
       "    <tr style=\"text-align: right;\">\n",
       "      <th></th>\n",
       "      <th>Home</th>\n",
       "      <th>Intent</th>\n",
       "      <th>Status</th>\n",
       "      <th>Default</th>\n",
       "    </tr>\n",
       "  </thead>\n",
       "  <tbody>\n",
       "    <tr>\n",
       "      <th>0</th>\n",
       "      <td>RENT</td>\n",
       "      <td>PERSONAL</td>\n",
       "      <td>1</td>\n",
       "      <td>Y</td>\n",
       "    </tr>\n",
       "    <tr>\n",
       "      <th>1</th>\n",
       "      <td>OWN</td>\n",
       "      <td>EDUCATION</td>\n",
       "      <td>0</td>\n",
       "      <td>N</td>\n",
       "    </tr>\n",
       "    <tr>\n",
       "      <th>2</th>\n",
       "      <td>MORTGAGE</td>\n",
       "      <td>MEDICAL</td>\n",
       "      <td>1</td>\n",
       "      <td>N</td>\n",
       "    </tr>\n",
       "    <tr>\n",
       "      <th>3</th>\n",
       "      <td>RENT</td>\n",
       "      <td>MEDICAL</td>\n",
       "      <td>1</td>\n",
       "      <td>N</td>\n",
       "    </tr>\n",
       "    <tr>\n",
       "      <th>4</th>\n",
       "      <td>RENT</td>\n",
       "      <td>MEDICAL</td>\n",
       "      <td>1</td>\n",
       "      <td>Y</td>\n",
       "    </tr>\n",
       "    <tr>\n",
       "      <th>...</th>\n",
       "      <td>...</td>\n",
       "      <td>...</td>\n",
       "      <td>...</td>\n",
       "      <td>...</td>\n",
       "    </tr>\n",
       "    <tr>\n",
       "      <th>32576</th>\n",
       "      <td>MORTGAGE</td>\n",
       "      <td>PERSONAL</td>\n",
       "      <td>0</td>\n",
       "      <td>N</td>\n",
       "    </tr>\n",
       "    <tr>\n",
       "      <th>32577</th>\n",
       "      <td>MORTGAGE</td>\n",
       "      <td>PERSONAL</td>\n",
       "      <td>0</td>\n",
       "      <td>N</td>\n",
       "    </tr>\n",
       "    <tr>\n",
       "      <th>32578</th>\n",
       "      <td>RENT</td>\n",
       "      <td>HOMEIMPROVEMENT</td>\n",
       "      <td>1</td>\n",
       "      <td>N</td>\n",
       "    </tr>\n",
       "    <tr>\n",
       "      <th>32579</th>\n",
       "      <td>MORTGAGE</td>\n",
       "      <td>PERSONAL</td>\n",
       "      <td>0</td>\n",
       "      <td>N</td>\n",
       "    </tr>\n",
       "    <tr>\n",
       "      <th>32580</th>\n",
       "      <td>RENT</td>\n",
       "      <td>MEDICAL</td>\n",
       "      <td>0</td>\n",
       "      <td>N</td>\n",
       "    </tr>\n",
       "  </tbody>\n",
       "</table>\n",
       "<p>32416 rows × 4 columns</p>\n",
       "</div>"
      ],
      "text/plain": [
       "           Home           Intent Status Default\n",
       "0          RENT         PERSONAL      1       Y\n",
       "1           OWN        EDUCATION      0       N\n",
       "2      MORTGAGE          MEDICAL      1       N\n",
       "3          RENT          MEDICAL      1       N\n",
       "4          RENT          MEDICAL      1       Y\n",
       "...         ...              ...    ...     ...\n",
       "32576  MORTGAGE         PERSONAL      0       N\n",
       "32577  MORTGAGE         PERSONAL      0       N\n",
       "32578      RENT  HOMEIMPROVEMENT      1       N\n",
       "32579  MORTGAGE         PERSONAL      0       N\n",
       "32580      RENT          MEDICAL      0       N\n",
       "\n",
       "[32416 rows x 4 columns]"
      ]
     },
     "execution_count": 95,
     "metadata": {},
     "output_type": "execute_result"
    }
   ],
   "source": [
    "df_cat"
   ]
  },
  {
   "cell_type": "markdown",
   "id": "3faf7233",
   "metadata": {},
   "source": [
    "## Check for skewness in numerical columns - 0.5"
   ]
  },
  {
   "cell_type": "code",
   "execution_count": 96,
   "id": "ecccb7d3",
   "metadata": {},
   "outputs": [
    {
     "data": {
      "text/plain": [
       "Age               1.015861\n",
       "Income            0.871473\n",
       "Emp_length        0.817071\n",
       "Amount            0.812765\n",
       "Rate              0.201799\n",
       "Percent_income    0.809649\n",
       "Cred_length       1.112239\n",
       "dtype: float64"
      ]
     },
     "execution_count": 96,
     "metadata": {},
     "output_type": "execute_result"
    }
   ],
   "source": [
    "df_num.skew()"
   ]
  },
  {
   "cell_type": "markdown",
   "id": "8118dae2",
   "metadata": {},
   "source": [
    "<a id=\"transformation\"> </a>\n",
    "### Transformation using the Yeo- Johnson method"
   ]
  },
  {
   "cell_type": "code",
   "execution_count": 97,
   "id": "daaa3928",
   "metadata": {},
   "outputs": [],
   "source": [
    "transformer = PowerTransformer()"
   ]
  },
  {
   "cell_type": "code",
   "execution_count": 98,
   "id": "d58b9a63",
   "metadata": {},
   "outputs": [],
   "source": [
    "transformed_df = pd.DataFrame(transformer.fit_transform(df_num), index = df_num.index, columns = df_num.columns)"
   ]
  },
  {
   "cell_type": "code",
   "execution_count": 99,
   "id": "23ddf41b",
   "metadata": {},
   "outputs": [
    {
     "data": {
      "text/html": [
       "<div>\n",
       "<style scoped>\n",
       "    .dataframe tbody tr th:only-of-type {\n",
       "        vertical-align: middle;\n",
       "    }\n",
       "\n",
       "    .dataframe tbody tr th {\n",
       "        vertical-align: top;\n",
       "    }\n",
       "\n",
       "    .dataframe thead th {\n",
       "        text-align: right;\n",
       "    }\n",
       "</style>\n",
       "<table border=\"1\" class=\"dataframe\">\n",
       "  <thead>\n",
       "    <tr style=\"text-align: right;\">\n",
       "      <th></th>\n",
       "      <th>Age</th>\n",
       "      <th>Income</th>\n",
       "      <th>Emp_length</th>\n",
       "      <th>Amount</th>\n",
       "      <th>Rate</th>\n",
       "      <th>Percent_income</th>\n",
       "      <th>Cred_length</th>\n",
       "    </tr>\n",
       "  </thead>\n",
       "  <tbody>\n",
       "    <tr>\n",
       "      <th>0</th>\n",
       "      <td>-1.332912</td>\n",
       "      <td>0.088981</td>\n",
       "      <td>1.955401</td>\n",
       "      <td>1.841173</td>\n",
       "      <td>1.521241</td>\n",
       "      <td>1.985672</td>\n",
       "      <td>-0.714520</td>\n",
       "    </tr>\n",
       "    <tr>\n",
       "      <th>1</th>\n",
       "      <td>-1.783274</td>\n",
       "      <td>-2.836429</td>\n",
       "      <td>0.308700</td>\n",
       "      <td>-2.328237</td>\n",
       "      <td>0.100296</td>\n",
       "      <td>-0.626184</td>\n",
       "      <td>-1.440053</td>\n",
       "    </tr>\n",
       "    <tr>\n",
       "      <th>2</th>\n",
       "      <td>-0.301946</td>\n",
       "      <td>-2.836429</td>\n",
       "      <td>-1.055355</td>\n",
       "      <td>-0.558597</td>\n",
       "      <td>0.630152</td>\n",
       "      <td>1.985672</td>\n",
       "      <td>-0.714520</td>\n",
       "    </tr>\n",
       "    <tr>\n",
       "      <th>3</th>\n",
       "      <td>-0.942185</td>\n",
       "      <td>0.293932</td>\n",
       "      <td>0.046980</td>\n",
       "      <td>1.841173</td>\n",
       "      <td>1.305541</td>\n",
       "      <td>1.985672</td>\n",
       "      <td>-1.440053</td>\n",
       "    </tr>\n",
       "    <tr>\n",
       "      <th>4</th>\n",
       "      <td>-0.601181</td>\n",
       "      <td>-0.067112</td>\n",
       "      <td>0.950047</td>\n",
       "      <td>1.841173</td>\n",
       "      <td>1.036726</td>\n",
       "      <td>1.985672</td>\n",
       "      <td>-0.212362</td>\n",
       "    </tr>\n",
       "    <tr>\n",
       "      <th>...</th>\n",
       "      <td>...</td>\n",
       "      <td>...</td>\n",
       "      <td>...</td>\n",
       "      <td>...</td>\n",
       "      <td>...</td>\n",
       "      <td>...</td>\n",
       "      <td>...</td>\n",
       "    </tr>\n",
       "    <tr>\n",
       "      <th>32411</th>\n",
       "      <td>1.802477</td>\n",
       "      <td>-0.116683</td>\n",
       "      <td>-1.055355</td>\n",
       "      <td>-0.487305</td>\n",
       "      <td>0.715888</td>\n",
       "      <td>-0.491985</td>\n",
       "      <td>1.770067</td>\n",
       "    </tr>\n",
       "    <tr>\n",
       "      <th>32412</th>\n",
       "      <td>1.802477</td>\n",
       "      <td>1.574412</td>\n",
       "      <td>0.046980</td>\n",
       "      <td>1.303279</td>\n",
       "      <td>-1.148954</td>\n",
       "      <td>-0.006591</td>\n",
       "      <td>1.770067</td>\n",
       "    </tr>\n",
       "    <tr>\n",
       "      <th>32413</th>\n",
       "      <td>1.802477</td>\n",
       "      <td>0.593403</td>\n",
       "      <td>-0.252744</td>\n",
       "      <td>1.841173</td>\n",
       "      <td>0.052744</td>\n",
       "      <td>1.985672</td>\n",
       "      <td>1.770067</td>\n",
       "    </tr>\n",
       "    <tr>\n",
       "      <th>32414</th>\n",
       "      <td>1.802477</td>\n",
       "      <td>1.931268</td>\n",
       "      <td>0.308700</td>\n",
       "      <td>1.004352</td>\n",
       "      <td>0.207078</td>\n",
       "      <td>-0.626184</td>\n",
       "      <td>1.770067</td>\n",
       "    </tr>\n",
       "    <tr>\n",
       "      <th>32415</th>\n",
       "      <td>1.802477</td>\n",
       "      <td>-0.547099</td>\n",
       "      <td>-0.608139</td>\n",
       "      <td>-0.335793</td>\n",
       "      <td>-0.271635</td>\n",
       "      <td>-0.006591</td>\n",
       "      <td>1.770067</td>\n",
       "    </tr>\n",
       "  </tbody>\n",
       "</table>\n",
       "<p>32416 rows × 7 columns</p>\n",
       "</div>"
      ],
      "text/plain": [
       "            Age    Income  Emp_length    Amount      Rate  Percent_income  \\\n",
       "0     -1.332912  0.088981    1.955401  1.841173  1.521241        1.985672   \n",
       "1     -1.783274 -2.836429    0.308700 -2.328237  0.100296       -0.626184   \n",
       "2     -0.301946 -2.836429   -1.055355 -0.558597  0.630152        1.985672   \n",
       "3     -0.942185  0.293932    0.046980  1.841173  1.305541        1.985672   \n",
       "4     -0.601181 -0.067112    0.950047  1.841173  1.036726        1.985672   \n",
       "...         ...       ...         ...       ...       ...             ...   \n",
       "32411  1.802477 -0.116683   -1.055355 -0.487305  0.715888       -0.491985   \n",
       "32412  1.802477  1.574412    0.046980  1.303279 -1.148954       -0.006591   \n",
       "32413  1.802477  0.593403   -0.252744  1.841173  0.052744        1.985672   \n",
       "32414  1.802477  1.931268    0.308700  1.004352  0.207078       -0.626184   \n",
       "32415  1.802477 -0.547099   -0.608139 -0.335793 -0.271635       -0.006591   \n",
       "\n",
       "       Cred_length  \n",
       "0        -0.714520  \n",
       "1        -1.440053  \n",
       "2        -0.714520  \n",
       "3        -1.440053  \n",
       "4        -0.212362  \n",
       "...            ...  \n",
       "32411     1.770067  \n",
       "32412     1.770067  \n",
       "32413     1.770067  \n",
       "32414     1.770067  \n",
       "32415     1.770067  \n",
       "\n",
       "[32416 rows x 7 columns]"
      ]
     },
     "execution_count": 99,
     "metadata": {},
     "output_type": "execute_result"
    }
   ],
   "source": [
    "transformed_df"
   ]
  },
  {
   "cell_type": "code",
   "execution_count": 100,
   "id": "7a91ec71",
   "metadata": {},
   "outputs": [
    {
     "data": {
      "text/plain": [
       "Age               0.143093\n",
       "Income           -0.010468\n",
       "Emp_length       -0.070086\n",
       "Amount           -0.042165\n",
       "Rate             -0.036981\n",
       "Percent_income    0.088382\n",
       "Cred_length       0.088659\n",
       "dtype: float64"
      ]
     },
     "execution_count": 100,
     "metadata": {},
     "output_type": "execute_result"
    }
   ],
   "source": [
    "transformed_df.skew()"
   ]
  },
  {
   "cell_type": "code",
   "execution_count": 101,
   "id": "a33d4786",
   "metadata": {},
   "outputs": [],
   "source": [
    "df_num = transformed_df"
   ]
  },
  {
   "cell_type": "markdown",
   "id": "e2188e06",
   "metadata": {},
   "source": [
    "<a id=\"scaling\"> </a>\n",
    "### Scaling using Standard Scaler"
   ]
  },
  {
   "cell_type": "code",
   "execution_count": 102,
   "id": "f88a7175",
   "metadata": {},
   "outputs": [],
   "source": [
    "scaler = StandardScaler()\n",
    "\n",
    "scaled_df = pd.DataFrame(scaler.fit_transform(df_num),columns=df_num.columns, index = df_num.index)   #writing index for scaling and transformation is important to avoid index problems"
   ]
  },
  {
   "cell_type": "code",
   "execution_count": 103,
   "id": "4e4c2e73",
   "metadata": {},
   "outputs": [
    {
     "data": {
      "text/html": [
       "<div>\n",
       "<style scoped>\n",
       "    .dataframe tbody tr th:only-of-type {\n",
       "        vertical-align: middle;\n",
       "    }\n",
       "\n",
       "    .dataframe tbody tr th {\n",
       "        vertical-align: top;\n",
       "    }\n",
       "\n",
       "    .dataframe thead th {\n",
       "        text-align: right;\n",
       "    }\n",
       "</style>\n",
       "<table border=\"1\" class=\"dataframe\">\n",
       "  <thead>\n",
       "    <tr style=\"text-align: right;\">\n",
       "      <th></th>\n",
       "      <th>Age</th>\n",
       "      <th>Income</th>\n",
       "      <th>Emp_length</th>\n",
       "      <th>Amount</th>\n",
       "      <th>Rate</th>\n",
       "      <th>Percent_income</th>\n",
       "      <th>Cred_length</th>\n",
       "    </tr>\n",
       "  </thead>\n",
       "  <tbody>\n",
       "    <tr>\n",
       "      <th>count</th>\n",
       "      <td>3.241600e+04</td>\n",
       "      <td>3.241600e+04</td>\n",
       "      <td>3.241600e+04</td>\n",
       "      <td>3.241600e+04</td>\n",
       "      <td>3.241600e+04</td>\n",
       "      <td>3.241600e+04</td>\n",
       "      <td>3.241600e+04</td>\n",
       "    </tr>\n",
       "    <tr>\n",
       "      <th>mean</th>\n",
       "      <td>-1.683418e-16</td>\n",
       "      <td>-1.402848e-17</td>\n",
       "      <td>-7.014242e-18</td>\n",
       "      <td>7.014242e-18</td>\n",
       "      <td>-4.603096e-17</td>\n",
       "      <td>-7.014242e-18</td>\n",
       "      <td>-5.611394e-17</td>\n",
       "    </tr>\n",
       "    <tr>\n",
       "      <th>std</th>\n",
       "      <td>1.000015e+00</td>\n",
       "      <td>1.000015e+00</td>\n",
       "      <td>1.000015e+00</td>\n",
       "      <td>1.000015e+00</td>\n",
       "      <td>1.000015e+00</td>\n",
       "      <td>1.000015e+00</td>\n",
       "      <td>1.000015e+00</td>\n",
       "    </tr>\n",
       "    <tr>\n",
       "      <th>min</th>\n",
       "      <td>-2.305741e+00</td>\n",
       "      <td>-3.893176e+00</td>\n",
       "      <td>-1.694673e+00</td>\n",
       "      <td>-2.822376e+00</td>\n",
       "      <td>-1.972021e+00</td>\n",
       "      <td>-2.335608e+00</td>\n",
       "      <td>-1.440053e+00</td>\n",
       "    </tr>\n",
       "    <tr>\n",
       "      <th>25%</th>\n",
       "      <td>-9.421851e-01</td>\n",
       "      <td>-7.008096e-01</td>\n",
       "      <td>-6.081390e-01</td>\n",
       "      <td>-6.836748e-01</td>\n",
       "      <td>-8.457589e-01</td>\n",
       "      <td>-7.660565e-01</td>\n",
       "      <td>-7.145205e-01</td>\n",
       "    </tr>\n",
       "    <tr>\n",
       "      <th>50%</th>\n",
       "      <td>-3.803778e-02</td>\n",
       "      <td>-4.617469e-02</td>\n",
       "      <td>4.698005e-02</td>\n",
       "      <td>-3.005163e-02</td>\n",
       "      <td>5.274402e-02</td>\n",
       "      <td>-6.590582e-03</td>\n",
       "      <td>-2.123621e-01</td>\n",
       "    </tr>\n",
       "    <tr>\n",
       "      <th>75%</th>\n",
       "      <td>7.565719e-01</td>\n",
       "      <td>6.786195e-01</td>\n",
       "      <td>7.548694e-01</td>\n",
       "      <td>6.491959e-01</td>\n",
       "      <td>7.364594e-01</td>\n",
       "      <td>7.630584e-01</td>\n",
       "      <td>8.946747e-01</td>\n",
       "    </tr>\n",
       "    <tr>\n",
       "      <th>max</th>\n",
       "      <td>1.802477e+00</td>\n",
       "      <td>1.931268e+00</td>\n",
       "      <td>1.955401e+00</td>\n",
       "      <td>1.841173e+00</td>\n",
       "      <td>2.688079e+00</td>\n",
       "      <td>1.985672e+00</td>\n",
       "      <td>1.770067e+00</td>\n",
       "    </tr>\n",
       "  </tbody>\n",
       "</table>\n",
       "</div>"
      ],
      "text/plain": [
       "                Age        Income    Emp_length        Amount          Rate  \\\n",
       "count  3.241600e+04  3.241600e+04  3.241600e+04  3.241600e+04  3.241600e+04   \n",
       "mean  -1.683418e-16 -1.402848e-17 -7.014242e-18  7.014242e-18 -4.603096e-17   \n",
       "std    1.000015e+00  1.000015e+00  1.000015e+00  1.000015e+00  1.000015e+00   \n",
       "min   -2.305741e+00 -3.893176e+00 -1.694673e+00 -2.822376e+00 -1.972021e+00   \n",
       "25%   -9.421851e-01 -7.008096e-01 -6.081390e-01 -6.836748e-01 -8.457589e-01   \n",
       "50%   -3.803778e-02 -4.617469e-02  4.698005e-02 -3.005163e-02  5.274402e-02   \n",
       "75%    7.565719e-01  6.786195e-01  7.548694e-01  6.491959e-01  7.364594e-01   \n",
       "max    1.802477e+00  1.931268e+00  1.955401e+00  1.841173e+00  2.688079e+00   \n",
       "\n",
       "       Percent_income   Cred_length  \n",
       "count    3.241600e+04  3.241600e+04  \n",
       "mean    -7.014242e-18 -5.611394e-17  \n",
       "std      1.000015e+00  1.000015e+00  \n",
       "min     -2.335608e+00 -1.440053e+00  \n",
       "25%     -7.660565e-01 -7.145205e-01  \n",
       "50%     -6.590582e-03 -2.123621e-01  \n",
       "75%      7.630584e-01  8.946747e-01  \n",
       "max      1.985672e+00  1.770067e+00  "
      ]
     },
     "execution_count": 103,
     "metadata": {},
     "output_type": "execute_result"
    }
   ],
   "source": [
    "scaled_df.describe()"
   ]
  },
  {
   "cell_type": "code",
   "execution_count": 104,
   "id": "d339d1a0",
   "metadata": {},
   "outputs": [],
   "source": [
    "df_num = scaled_df"
   ]
  },
  {
   "cell_type": "markdown",
   "id": "335c44a5",
   "metadata": {},
   "source": [
    "<a id=\"encoding\"> </a>\n",
    "### Encoding"
   ]
  },
  {
   "cell_type": "code",
   "execution_count": 105,
   "id": "af4f0cff",
   "metadata": {},
   "outputs": [
    {
     "data": {
      "text/html": [
       "<div>\n",
       "<style scoped>\n",
       "    .dataframe tbody tr th:only-of-type {\n",
       "        vertical-align: middle;\n",
       "    }\n",
       "\n",
       "    .dataframe tbody tr th {\n",
       "        vertical-align: top;\n",
       "    }\n",
       "\n",
       "    .dataframe thead th {\n",
       "        text-align: right;\n",
       "    }\n",
       "</style>\n",
       "<table border=\"1\" class=\"dataframe\">\n",
       "  <thead>\n",
       "    <tr style=\"text-align: right;\">\n",
       "      <th></th>\n",
       "      <th>Home</th>\n",
       "      <th>Intent</th>\n",
       "      <th>Status</th>\n",
       "      <th>Default</th>\n",
       "    </tr>\n",
       "  </thead>\n",
       "  <tbody>\n",
       "    <tr>\n",
       "      <th>count</th>\n",
       "      <td>32416</td>\n",
       "      <td>32416</td>\n",
       "      <td>32416</td>\n",
       "      <td>32416</td>\n",
       "    </tr>\n",
       "    <tr>\n",
       "      <th>unique</th>\n",
       "      <td>4</td>\n",
       "      <td>6</td>\n",
       "      <td>2</td>\n",
       "      <td>2</td>\n",
       "    </tr>\n",
       "    <tr>\n",
       "      <th>top</th>\n",
       "      <td>RENT</td>\n",
       "      <td>EDUCATION</td>\n",
       "      <td>0</td>\n",
       "      <td>N</td>\n",
       "    </tr>\n",
       "    <tr>\n",
       "      <th>freq</th>\n",
       "      <td>16378</td>\n",
       "      <td>6411</td>\n",
       "      <td>25327</td>\n",
       "      <td>26686</td>\n",
       "    </tr>\n",
       "  </tbody>\n",
       "</table>\n",
       "</div>"
      ],
      "text/plain": [
       "         Home     Intent  Status Default\n",
       "count   32416      32416   32416   32416\n",
       "unique      4          6       2       2\n",
       "top      RENT  EDUCATION       0       N\n",
       "freq    16378       6411   25327   26686"
      ]
     },
     "execution_count": 105,
     "metadata": {},
     "output_type": "execute_result"
    }
   ],
   "source": [
    "df_cat.describe()"
   ]
  },
  {
   "cell_type": "markdown",
   "id": "5dcfdf5b",
   "metadata": {},
   "source": [
    "### Label Encoding"
   ]
  },
  {
   "cell_type": "code",
   "execution_count": 106,
   "id": "50fa8562",
   "metadata": {},
   "outputs": [],
   "source": [
    "encoder = LabelEncoder()\n",
    "\n",
    "df_cat['Intent'] = encoder.fit_transform(df_cat[['Intent']])"
   ]
  },
  {
   "cell_type": "markdown",
   "id": "da836201",
   "metadata": {},
   "source": [
    "### One-hot Encoding"
   ]
  },
  {
   "cell_type": "code",
   "execution_count": 107,
   "id": "6bd1a21f",
   "metadata": {},
   "outputs": [],
   "source": [
    "df_cat = pd.get_dummies(df_cat,columns =['Home'],drop_first = True, prefix = [\"TypeofHome\"], dtype = int)"
   ]
  },
  {
   "cell_type": "markdown",
   "id": "6b341d99",
   "metadata": {},
   "source": [
    "### Final Data for building model "
   ]
  },
  {
   "cell_type": "code",
   "execution_count": 108,
   "id": "a82f1e58",
   "metadata": {},
   "outputs": [],
   "source": [
    "df_num.to_csv('num_data.csv', index=False)"
   ]
  },
  {
   "cell_type": "code",
   "execution_count": 109,
   "id": "e68b209d",
   "metadata": {},
   "outputs": [],
   "source": [
    "df_cat.to_csv('cat_data.csv', index=False)"
   ]
  },
  {
   "cell_type": "code",
   "execution_count": 208,
   "id": "3e66643f",
   "metadata": {},
   "outputs": [],
   "source": [
    "df_num = pd.read_csv(\"num_data.csv\")"
   ]
  },
  {
   "cell_type": "code",
   "execution_count": 209,
   "id": "bb59c486",
   "metadata": {},
   "outputs": [],
   "source": [
    "df_cat = pd.read_csv(\"cat_data.csv\")"
   ]
  },
  {
   "cell_type": "code",
   "execution_count": 210,
   "id": "1fd2fa15",
   "metadata": {},
   "outputs": [
    {
     "data": {
      "text/html": [
       "<div>\n",
       "<style scoped>\n",
       "    .dataframe tbody tr th:only-of-type {\n",
       "        vertical-align: middle;\n",
       "    }\n",
       "\n",
       "    .dataframe tbody tr th {\n",
       "        vertical-align: top;\n",
       "    }\n",
       "\n",
       "    .dataframe thead th {\n",
       "        text-align: right;\n",
       "    }\n",
       "</style>\n",
       "<table border=\"1\" class=\"dataframe\">\n",
       "  <thead>\n",
       "    <tr style=\"text-align: right;\">\n",
       "      <th></th>\n",
       "      <th>Age</th>\n",
       "      <th>Income</th>\n",
       "      <th>Emp_length</th>\n",
       "      <th>Amount</th>\n",
       "      <th>Rate</th>\n",
       "      <th>Percent_income</th>\n",
       "      <th>Cred_length</th>\n",
       "    </tr>\n",
       "  </thead>\n",
       "  <tbody>\n",
       "    <tr>\n",
       "      <th>0</th>\n",
       "      <td>-1.332912</td>\n",
       "      <td>0.088981</td>\n",
       "      <td>1.955401</td>\n",
       "      <td>1.841173</td>\n",
       "      <td>1.521241</td>\n",
       "      <td>1.985672</td>\n",
       "      <td>-0.714520</td>\n",
       "    </tr>\n",
       "    <tr>\n",
       "      <th>1</th>\n",
       "      <td>-1.783274</td>\n",
       "      <td>-2.836429</td>\n",
       "      <td>0.308700</td>\n",
       "      <td>-2.328237</td>\n",
       "      <td>0.100296</td>\n",
       "      <td>-0.626184</td>\n",
       "      <td>-1.440053</td>\n",
       "    </tr>\n",
       "    <tr>\n",
       "      <th>2</th>\n",
       "      <td>-0.301946</td>\n",
       "      <td>-2.836429</td>\n",
       "      <td>-1.055355</td>\n",
       "      <td>-0.558597</td>\n",
       "      <td>0.630152</td>\n",
       "      <td>1.985672</td>\n",
       "      <td>-0.714520</td>\n",
       "    </tr>\n",
       "    <tr>\n",
       "      <th>3</th>\n",
       "      <td>-0.942185</td>\n",
       "      <td>0.293932</td>\n",
       "      <td>0.046980</td>\n",
       "      <td>1.841173</td>\n",
       "      <td>1.305541</td>\n",
       "      <td>1.985672</td>\n",
       "      <td>-1.440053</td>\n",
       "    </tr>\n",
       "    <tr>\n",
       "      <th>4</th>\n",
       "      <td>-0.601181</td>\n",
       "      <td>-0.067112</td>\n",
       "      <td>0.950047</td>\n",
       "      <td>1.841173</td>\n",
       "      <td>1.036726</td>\n",
       "      <td>1.985672</td>\n",
       "      <td>-0.212362</td>\n",
       "    </tr>\n",
       "    <tr>\n",
       "      <th>...</th>\n",
       "      <td>...</td>\n",
       "      <td>...</td>\n",
       "      <td>...</td>\n",
       "      <td>...</td>\n",
       "      <td>...</td>\n",
       "      <td>...</td>\n",
       "      <td>...</td>\n",
       "    </tr>\n",
       "    <tr>\n",
       "      <th>32411</th>\n",
       "      <td>1.802477</td>\n",
       "      <td>-0.116683</td>\n",
       "      <td>-1.055355</td>\n",
       "      <td>-0.487305</td>\n",
       "      <td>0.715888</td>\n",
       "      <td>-0.491985</td>\n",
       "      <td>1.770067</td>\n",
       "    </tr>\n",
       "    <tr>\n",
       "      <th>32412</th>\n",
       "      <td>1.802477</td>\n",
       "      <td>1.574412</td>\n",
       "      <td>0.046980</td>\n",
       "      <td>1.303279</td>\n",
       "      <td>-1.148954</td>\n",
       "      <td>-0.006591</td>\n",
       "      <td>1.770067</td>\n",
       "    </tr>\n",
       "    <tr>\n",
       "      <th>32413</th>\n",
       "      <td>1.802477</td>\n",
       "      <td>0.593403</td>\n",
       "      <td>-0.252744</td>\n",
       "      <td>1.841173</td>\n",
       "      <td>0.052744</td>\n",
       "      <td>1.985672</td>\n",
       "      <td>1.770067</td>\n",
       "    </tr>\n",
       "    <tr>\n",
       "      <th>32414</th>\n",
       "      <td>1.802477</td>\n",
       "      <td>1.931268</td>\n",
       "      <td>0.308700</td>\n",
       "      <td>1.004352</td>\n",
       "      <td>0.207078</td>\n",
       "      <td>-0.626184</td>\n",
       "      <td>1.770067</td>\n",
       "    </tr>\n",
       "    <tr>\n",
       "      <th>32415</th>\n",
       "      <td>1.802477</td>\n",
       "      <td>-0.547099</td>\n",
       "      <td>-0.608139</td>\n",
       "      <td>-0.335793</td>\n",
       "      <td>-0.271635</td>\n",
       "      <td>-0.006591</td>\n",
       "      <td>1.770067</td>\n",
       "    </tr>\n",
       "  </tbody>\n",
       "</table>\n",
       "<p>32416 rows × 7 columns</p>\n",
       "</div>"
      ],
      "text/plain": [
       "            Age    Income  Emp_length    Amount      Rate  Percent_income  \\\n",
       "0     -1.332912  0.088981    1.955401  1.841173  1.521241        1.985672   \n",
       "1     -1.783274 -2.836429    0.308700 -2.328237  0.100296       -0.626184   \n",
       "2     -0.301946 -2.836429   -1.055355 -0.558597  0.630152        1.985672   \n",
       "3     -0.942185  0.293932    0.046980  1.841173  1.305541        1.985672   \n",
       "4     -0.601181 -0.067112    0.950047  1.841173  1.036726        1.985672   \n",
       "...         ...       ...         ...       ...       ...             ...   \n",
       "32411  1.802477 -0.116683   -1.055355 -0.487305  0.715888       -0.491985   \n",
       "32412  1.802477  1.574412    0.046980  1.303279 -1.148954       -0.006591   \n",
       "32413  1.802477  0.593403   -0.252744  1.841173  0.052744        1.985672   \n",
       "32414  1.802477  1.931268    0.308700  1.004352  0.207078       -0.626184   \n",
       "32415  1.802477 -0.547099   -0.608139 -0.335793 -0.271635       -0.006591   \n",
       "\n",
       "       Cred_length  \n",
       "0        -0.714520  \n",
       "1        -1.440053  \n",
       "2        -0.714520  \n",
       "3        -1.440053  \n",
       "4        -0.212362  \n",
       "...            ...  \n",
       "32411     1.770067  \n",
       "32412     1.770067  \n",
       "32413     1.770067  \n",
       "32414     1.770067  \n",
       "32415     1.770067  \n",
       "\n",
       "[32416 rows x 7 columns]"
      ]
     },
     "execution_count": 210,
     "metadata": {},
     "output_type": "execute_result"
    }
   ],
   "source": [
    "df_num"
   ]
  },
  {
   "cell_type": "code",
   "execution_count": 211,
   "id": "9a5c0c71",
   "metadata": {},
   "outputs": [
    {
     "data": {
      "text/html": [
       "<div>\n",
       "<style scoped>\n",
       "    .dataframe tbody tr th:only-of-type {\n",
       "        vertical-align: middle;\n",
       "    }\n",
       "\n",
       "    .dataframe tbody tr th {\n",
       "        vertical-align: top;\n",
       "    }\n",
       "\n",
       "    .dataframe thead th {\n",
       "        text-align: right;\n",
       "    }\n",
       "</style>\n",
       "<table border=\"1\" class=\"dataframe\">\n",
       "  <thead>\n",
       "    <tr style=\"text-align: right;\">\n",
       "      <th></th>\n",
       "      <th>Intent</th>\n",
       "      <th>Status</th>\n",
       "      <th>Default</th>\n",
       "      <th>TypeofHome_OTHER</th>\n",
       "      <th>TypeofHome_OWN</th>\n",
       "      <th>TypeofHome_RENT</th>\n",
       "    </tr>\n",
       "  </thead>\n",
       "  <tbody>\n",
       "    <tr>\n",
       "      <th>0</th>\n",
       "      <td>4</td>\n",
       "      <td>1</td>\n",
       "      <td>Y</td>\n",
       "      <td>0</td>\n",
       "      <td>0</td>\n",
       "      <td>1</td>\n",
       "    </tr>\n",
       "    <tr>\n",
       "      <th>1</th>\n",
       "      <td>1</td>\n",
       "      <td>0</td>\n",
       "      <td>N</td>\n",
       "      <td>0</td>\n",
       "      <td>1</td>\n",
       "      <td>0</td>\n",
       "    </tr>\n",
       "    <tr>\n",
       "      <th>2</th>\n",
       "      <td>3</td>\n",
       "      <td>1</td>\n",
       "      <td>N</td>\n",
       "      <td>0</td>\n",
       "      <td>0</td>\n",
       "      <td>0</td>\n",
       "    </tr>\n",
       "    <tr>\n",
       "      <th>3</th>\n",
       "      <td>3</td>\n",
       "      <td>1</td>\n",
       "      <td>N</td>\n",
       "      <td>0</td>\n",
       "      <td>0</td>\n",
       "      <td>1</td>\n",
       "    </tr>\n",
       "    <tr>\n",
       "      <th>4</th>\n",
       "      <td>3</td>\n",
       "      <td>1</td>\n",
       "      <td>Y</td>\n",
       "      <td>0</td>\n",
       "      <td>0</td>\n",
       "      <td>1</td>\n",
       "    </tr>\n",
       "    <tr>\n",
       "      <th>...</th>\n",
       "      <td>...</td>\n",
       "      <td>...</td>\n",
       "      <td>...</td>\n",
       "      <td>...</td>\n",
       "      <td>...</td>\n",
       "      <td>...</td>\n",
       "    </tr>\n",
       "    <tr>\n",
       "      <th>32411</th>\n",
       "      <td>4</td>\n",
       "      <td>0</td>\n",
       "      <td>N</td>\n",
       "      <td>0</td>\n",
       "      <td>0</td>\n",
       "      <td>0</td>\n",
       "    </tr>\n",
       "    <tr>\n",
       "      <th>32412</th>\n",
       "      <td>4</td>\n",
       "      <td>0</td>\n",
       "      <td>N</td>\n",
       "      <td>0</td>\n",
       "      <td>0</td>\n",
       "      <td>0</td>\n",
       "    </tr>\n",
       "    <tr>\n",
       "      <th>32413</th>\n",
       "      <td>2</td>\n",
       "      <td>1</td>\n",
       "      <td>N</td>\n",
       "      <td>0</td>\n",
       "      <td>0</td>\n",
       "      <td>1</td>\n",
       "    </tr>\n",
       "    <tr>\n",
       "      <th>32414</th>\n",
       "      <td>4</td>\n",
       "      <td>0</td>\n",
       "      <td>N</td>\n",
       "      <td>0</td>\n",
       "      <td>0</td>\n",
       "      <td>0</td>\n",
       "    </tr>\n",
       "    <tr>\n",
       "      <th>32415</th>\n",
       "      <td>3</td>\n",
       "      <td>0</td>\n",
       "      <td>N</td>\n",
       "      <td>0</td>\n",
       "      <td>0</td>\n",
       "      <td>1</td>\n",
       "    </tr>\n",
       "  </tbody>\n",
       "</table>\n",
       "<p>32416 rows × 6 columns</p>\n",
       "</div>"
      ],
      "text/plain": [
       "       Intent  Status Default  TypeofHome_OTHER  TypeofHome_OWN  \\\n",
       "0           4       1       Y                 0               0   \n",
       "1           1       0       N                 0               1   \n",
       "2           3       1       N                 0               0   \n",
       "3           3       1       N                 0               0   \n",
       "4           3       1       Y                 0               0   \n",
       "...       ...     ...     ...               ...             ...   \n",
       "32411       4       0       N                 0               0   \n",
       "32412       4       0       N                 0               0   \n",
       "32413       2       1       N                 0               0   \n",
       "32414       4       0       N                 0               0   \n",
       "32415       3       0       N                 0               0   \n",
       "\n",
       "       TypeofHome_RENT  \n",
       "0                    1  \n",
       "1                    0  \n",
       "2                    0  \n",
       "3                    1  \n",
       "4                    1  \n",
       "...                ...  \n",
       "32411                0  \n",
       "32412                0  \n",
       "32413                1  \n",
       "32414                0  \n",
       "32415                1  \n",
       "\n",
       "[32416 rows x 6 columns]"
      ]
     },
     "execution_count": 211,
     "metadata": {},
     "output_type": "execute_result"
    }
   ],
   "source": [
    "df_cat"
   ]
  },
  {
   "cell_type": "code",
   "execution_count": 212,
   "id": "13aae658",
   "metadata": {},
   "outputs": [],
   "source": [
    "y = df_cat[\"Default\"].map({\"Y\":1,\"N\":0})"
   ]
  },
  {
   "cell_type": "code",
   "execution_count": 213,
   "id": "53f7d524",
   "metadata": {},
   "outputs": [
    {
     "data": {
      "text/plain": [
       "32416"
      ]
     },
     "execution_count": 213,
     "metadata": {},
     "output_type": "execute_result"
    }
   ],
   "source": [
    "len(y)"
   ]
  },
  {
   "cell_type": "code",
   "execution_count": 214,
   "id": "f4d37d54",
   "metadata": {},
   "outputs": [],
   "source": [
    "df_cat.drop(\"Default\",axis=1,inplace=True)"
   ]
  },
  {
   "cell_type": "code",
   "execution_count": 215,
   "id": "a67695a8",
   "metadata": {},
   "outputs": [],
   "source": [
    "df_num.reset_index(inplace = True, drop = True)  #old index will be dropped here"
   ]
  },
  {
   "cell_type": "code",
   "execution_count": 216,
   "id": "22ff6679",
   "metadata": {},
   "outputs": [],
   "source": [
    "df_cat.reset_index(inplace = True, drop = True)"
   ]
  },
  {
   "cell_type": "code",
   "execution_count": 217,
   "id": "da1bed77",
   "metadata": {},
   "outputs": [],
   "source": [
    "X = pd.concat([df_num,df_cat],axis=1)"
   ]
  },
  {
   "cell_type": "code",
   "execution_count": 218,
   "id": "10e48c09",
   "metadata": {},
   "outputs": [
    {
     "data": {
      "text/plain": [
       "32416"
      ]
     },
     "execution_count": 218,
     "metadata": {},
     "output_type": "execute_result"
    }
   ],
   "source": [
    "len(X)"
   ]
  },
  {
   "cell_type": "code",
   "execution_count": 219,
   "id": "ad36fa79",
   "metadata": {},
   "outputs": [
    {
     "name": "stdout",
     "output_type": "stream",
     "text": [
      "<class 'pandas.core.frame.DataFrame'>\n",
      "RangeIndex: 32416 entries, 0 to 32415\n",
      "Data columns (total 12 columns):\n",
      " #   Column            Non-Null Count  Dtype  \n",
      "---  ------            --------------  -----  \n",
      " 0   Age               32416 non-null  float64\n",
      " 1   Income            32416 non-null  float64\n",
      " 2   Emp_length        32416 non-null  float64\n",
      " 3   Amount            32416 non-null  float64\n",
      " 4   Rate              32416 non-null  float64\n",
      " 5   Percent_income    32416 non-null  float64\n",
      " 6   Cred_length       32416 non-null  float64\n",
      " 7   Intent            32416 non-null  int64  \n",
      " 8   Status            32416 non-null  int64  \n",
      " 9   TypeofHome_OTHER  32416 non-null  int64  \n",
      " 10  TypeofHome_OWN    32416 non-null  int64  \n",
      " 11  TypeofHome_RENT   32416 non-null  int64  \n",
      "dtypes: float64(7), int64(5)\n",
      "memory usage: 3.0 MB\n"
     ]
    }
   ],
   "source": [
    "X.info()"
   ]
  },
  {
   "cell_type": "markdown",
   "id": "6e9141a9",
   "metadata": {},
   "source": [
    "#### Converting the `Status` column datatype into int datatype"
   ]
  },
  {
   "cell_type": "code",
   "execution_count": 120,
   "id": "58bb6eb1",
   "metadata": {},
   "outputs": [],
   "source": [
    "X['Status'] = X['Status'].astype(int)"
   ]
  },
  {
   "cell_type": "code",
   "execution_count": 121,
   "id": "ac1d753d",
   "metadata": {},
   "outputs": [
    {
     "name": "stdout",
     "output_type": "stream",
     "text": [
      "<class 'pandas.core.frame.DataFrame'>\n",
      "RangeIndex: 32416 entries, 0 to 32415\n",
      "Data columns (total 14 columns):\n",
      " #   Column            Non-Null Count  Dtype  \n",
      "---  ------            --------------  -----  \n",
      " 0   index             32416 non-null  int64  \n",
      " 1   Age               32416 non-null  float64\n",
      " 2   Income            32416 non-null  float64\n",
      " 3   Emp_length        32416 non-null  float64\n",
      " 4   Amount            32416 non-null  float64\n",
      " 5   Rate              32416 non-null  float64\n",
      " 6   Percent_income    32416 non-null  float64\n",
      " 7   Cred_length       32416 non-null  float64\n",
      " 8   index             32416 non-null  int64  \n",
      " 9   Intent            32416 non-null  int32  \n",
      " 10  Status            32416 non-null  int32  \n",
      " 11  TypeofHome_OTHER  32416 non-null  int32  \n",
      " 12  TypeofHome_OWN    32416 non-null  int32  \n",
      " 13  TypeofHome_RENT   32416 non-null  int32  \n",
      "dtypes: float64(7), int32(5), int64(2)\n",
      "memory usage: 2.8 MB\n"
     ]
    }
   ],
   "source": [
    "X.info()"
   ]
  },
  {
   "cell_type": "markdown",
   "id": "3bf7b896",
   "metadata": {},
   "source": [
    "<a id=\"datasplit\"> </a>\n",
    "### Split the dataset into train set and test set"
   ]
  },
  {
   "cell_type": "code",
   "execution_count": 221,
   "id": "a310c5cd",
   "metadata": {},
   "outputs": [],
   "source": [
    "X_train,X_test,y_train,y_test = train_test_split(X,y,test_size=0.2,random_state=2)"
   ]
  },
  {
   "cell_type": "code",
   "execution_count": 222,
   "id": "b17ff90a",
   "metadata": {},
   "outputs": [
    {
     "name": "stdout",
     "output_type": "stream",
     "text": [
      "(25932, 12)\n",
      "(6484, 12)\n",
      "(25932,)\n",
      "(6484,)\n"
     ]
    }
   ],
   "source": [
    "print(X_train.shape)\n",
    "print(X_test.shape)\n",
    "print(y_train.shape)\n",
    "print(y_test.shape)"
   ]
  },
  {
   "cell_type": "code",
   "execution_count": 223,
   "id": "5b206c23",
   "metadata": {},
   "outputs": [
    {
     "data": {
      "text/html": [
       "<div>\n",
       "<style scoped>\n",
       "    .dataframe tbody tr th:only-of-type {\n",
       "        vertical-align: middle;\n",
       "    }\n",
       "\n",
       "    .dataframe tbody tr th {\n",
       "        vertical-align: top;\n",
       "    }\n",
       "\n",
       "    .dataframe thead th {\n",
       "        text-align: right;\n",
       "    }\n",
       "</style>\n",
       "<table border=\"1\" class=\"dataframe\">\n",
       "  <thead>\n",
       "    <tr style=\"text-align: right;\">\n",
       "      <th></th>\n",
       "      <th>Age</th>\n",
       "      <th>Income</th>\n",
       "      <th>Emp_length</th>\n",
       "      <th>Amount</th>\n",
       "      <th>Rate</th>\n",
       "      <th>Percent_income</th>\n",
       "      <th>Cred_length</th>\n",
       "      <th>Intent</th>\n",
       "      <th>Status</th>\n",
       "      <th>TypeofHome_OTHER</th>\n",
       "      <th>TypeofHome_OWN</th>\n",
       "      <th>TypeofHome_RENT</th>\n",
       "    </tr>\n",
       "  </thead>\n",
       "  <tbody>\n",
       "    <tr>\n",
       "      <th>30331</th>\n",
       "      <td>1.555699</td>\n",
       "      <td>-1.434196</td>\n",
       "      <td>0.542531</td>\n",
       "      <td>-0.125451</td>\n",
       "      <td>0.052744</td>\n",
       "      <td>1.272091</td>\n",
       "      <td>1.770067</td>\n",
       "      <td>3</td>\n",
       "      <td>0</td>\n",
       "      <td>0</td>\n",
       "      <td>0</td>\n",
       "      <td>1</td>\n",
       "    </tr>\n",
       "    <tr>\n",
       "      <th>26298</th>\n",
       "      <td>0.906650</td>\n",
       "      <td>-0.725879</td>\n",
       "      <td>1.955401</td>\n",
       "      <td>0.930988</td>\n",
       "      <td>-0.627416</td>\n",
       "      <td>1.719851</td>\n",
       "      <td>0.695418</td>\n",
       "      <td>5</td>\n",
       "      <td>1</td>\n",
       "      <td>0</td>\n",
       "      <td>0</td>\n",
       "      <td>1</td>\n",
       "    </tr>\n",
       "    <tr>\n",
       "      <th>25285</th>\n",
       "      <td>0.589821</td>\n",
       "      <td>0.088981</td>\n",
       "      <td>0.046980</td>\n",
       "      <td>0.614253</td>\n",
       "      <td>1.647358</td>\n",
       "      <td>0.501595</td>\n",
       "      <td>1.064277</td>\n",
       "      <td>0</td>\n",
       "      <td>1</td>\n",
       "      <td>0</td>\n",
       "      <td>0</td>\n",
       "      <td>1</td>\n",
       "    </tr>\n",
       "    <tr>\n",
       "      <th>21557</th>\n",
       "      <td>1.276425</td>\n",
       "      <td>-0.226488</td>\n",
       "      <td>-0.608139</td>\n",
       "      <td>0.614253</td>\n",
       "      <td>0.084476</td>\n",
       "      <td>0.843921</td>\n",
       "      <td>1.064277</td>\n",
       "      <td>4</td>\n",
       "      <td>0</td>\n",
       "      <td>0</td>\n",
       "      <td>1</td>\n",
       "      <td>0</td>\n",
       "    </tr>\n",
       "    <tr>\n",
       "      <th>7989</th>\n",
       "      <td>-0.942185</td>\n",
       "      <td>-0.046175</td>\n",
       "      <td>0.308700</td>\n",
       "      <td>-0.030052</td>\n",
       "      <td>0.916648</td>\n",
       "      <td>-0.006591</td>\n",
       "      <td>-0.212362</td>\n",
       "      <td>0</td>\n",
       "      <td>0</td>\n",
       "      <td>0</td>\n",
       "      <td>0</td>\n",
       "      <td>0</td>\n",
       "    </tr>\n",
       "    <tr>\n",
       "      <th>...</th>\n",
       "      <td>...</td>\n",
       "      <td>...</td>\n",
       "      <td>...</td>\n",
       "      <td>...</td>\n",
       "      <td>...</td>\n",
       "      <td>...</td>\n",
       "      <td>...</td>\n",
       "      <td>...</td>\n",
       "      <td>...</td>\n",
       "      <td>...</td>\n",
       "      <td>...</td>\n",
       "      <td>...</td>\n",
       "    </tr>\n",
       "    <tr>\n",
       "      <th>11798</th>\n",
       "      <td>-1.332912</td>\n",
       "      <td>0.511355</td>\n",
       "      <td>-1.694673</td>\n",
       "      <td>0.314655</td>\n",
       "      <td>2.106156</td>\n",
       "      <td>-0.120724</td>\n",
       "      <td>-1.440053</td>\n",
       "      <td>4</td>\n",
       "      <td>1</td>\n",
       "      <td>0</td>\n",
       "      <td>0</td>\n",
       "      <td>1</td>\n",
       "    </tr>\n",
       "    <tr>\n",
       "      <th>30280</th>\n",
       "      <td>1.633637</td>\n",
       "      <td>-0.046175</td>\n",
       "      <td>1.955401</td>\n",
       "      <td>-0.441189</td>\n",
       "      <td>-1.972021</td>\n",
       "      <td>-0.491985</td>\n",
       "      <td>1.647572</td>\n",
       "      <td>4</td>\n",
       "      <td>0</td>\n",
       "      <td>0</td>\n",
       "      <td>0</td>\n",
       "      <td>0</td>\n",
       "    </tr>\n",
       "    <tr>\n",
       "      <th>6637</th>\n",
       "      <td>-0.038038</td>\n",
       "      <td>-0.152727</td>\n",
       "      <td>1.300456</td>\n",
       "      <td>-0.441189</td>\n",
       "      <td>1.428992</td>\n",
       "      <td>-0.363181</td>\n",
       "      <td>-0.714520</td>\n",
       "      <td>2</td>\n",
       "      <td>0</td>\n",
       "      <td>0</td>\n",
       "      <td>0</td>\n",
       "      <td>1</td>\n",
       "    </tr>\n",
       "    <tr>\n",
       "      <th>2575</th>\n",
       "      <td>-1.332912</td>\n",
       "      <td>-1.002981</td>\n",
       "      <td>0.308700</td>\n",
       "      <td>-1.295416</td>\n",
       "      <td>1.636686</td>\n",
       "      <td>-0.766056</td>\n",
       "      <td>-0.714520</td>\n",
       "      <td>4</td>\n",
       "      <td>0</td>\n",
       "      <td>0</td>\n",
       "      <td>0</td>\n",
       "      <td>1</td>\n",
       "    </tr>\n",
       "    <tr>\n",
       "      <th>23720</th>\n",
       "      <td>0.906650</td>\n",
       "      <td>0.698915</td>\n",
       "      <td>-1.055355</td>\n",
       "      <td>0.249828</td>\n",
       "      <td>-0.298168</td>\n",
       "      <td>-0.363181</td>\n",
       "      <td>0.695418</td>\n",
       "      <td>3</td>\n",
       "      <td>0</td>\n",
       "      <td>0</td>\n",
       "      <td>0</td>\n",
       "      <td>1</td>\n",
       "    </tr>\n",
       "  </tbody>\n",
       "</table>\n",
       "<p>25932 rows × 12 columns</p>\n",
       "</div>"
      ],
      "text/plain": [
       "            Age    Income  Emp_length    Amount      Rate  Percent_income  \\\n",
       "30331  1.555699 -1.434196    0.542531 -0.125451  0.052744        1.272091   \n",
       "26298  0.906650 -0.725879    1.955401  0.930988 -0.627416        1.719851   \n",
       "25285  0.589821  0.088981    0.046980  0.614253  1.647358        0.501595   \n",
       "21557  1.276425 -0.226488   -0.608139  0.614253  0.084476        0.843921   \n",
       "7989  -0.942185 -0.046175    0.308700 -0.030052  0.916648       -0.006591   \n",
       "...         ...       ...         ...       ...       ...             ...   \n",
       "11798 -1.332912  0.511355   -1.694673  0.314655  2.106156       -0.120724   \n",
       "30280  1.633637 -0.046175    1.955401 -0.441189 -1.972021       -0.491985   \n",
       "6637  -0.038038 -0.152727    1.300456 -0.441189  1.428992       -0.363181   \n",
       "2575  -1.332912 -1.002981    0.308700 -1.295416  1.636686       -0.766056   \n",
       "23720  0.906650  0.698915   -1.055355  0.249828 -0.298168       -0.363181   \n",
       "\n",
       "       Cred_length  Intent  Status  TypeofHome_OTHER  TypeofHome_OWN  \\\n",
       "30331     1.770067       3       0                 0               0   \n",
       "26298     0.695418       5       1                 0               0   \n",
       "25285     1.064277       0       1                 0               0   \n",
       "21557     1.064277       4       0                 0               1   \n",
       "7989     -0.212362       0       0                 0               0   \n",
       "...            ...     ...     ...               ...             ...   \n",
       "11798    -1.440053       4       1                 0               0   \n",
       "30280     1.647572       4       0                 0               0   \n",
       "6637     -0.714520       2       0                 0               0   \n",
       "2575     -0.714520       4       0                 0               0   \n",
       "23720     0.695418       3       0                 0               0   \n",
       "\n",
       "       TypeofHome_RENT  \n",
       "30331                1  \n",
       "26298                1  \n",
       "25285                1  \n",
       "21557                0  \n",
       "7989                 0  \n",
       "...                ...  \n",
       "11798                1  \n",
       "30280                0  \n",
       "6637                 1  \n",
       "2575                 1  \n",
       "23720                1  \n",
       "\n",
       "[25932 rows x 12 columns]"
      ]
     },
     "execution_count": 223,
     "metadata": {},
     "output_type": "execute_result"
    }
   ],
   "source": [
    "X_train"
   ]
  },
  {
   "cell_type": "markdown",
   "id": "fc92f740",
   "metadata": {},
   "source": [
    "<a id=\"modelbuilding\"> </a>\n",
    "# 5. Model Building"
   ]
  },
  {
   "cell_type": "markdown",
   "id": "62a7a871",
   "metadata": {},
   "source": [
    "Train models using various classification algorithms"
   ]
  },
  {
   "cell_type": "code",
   "execution_count": 224,
   "id": "33ce2675",
   "metadata": {},
   "outputs": [],
   "source": [
    "### 1. Classification techniques\n",
    "lr = LogisticRegression().fit(X_train,y_train)\n",
    "knn = KNeighborsClassifier(n_neighbors=5).fit(X_train,y_train)\n",
    "nb = GaussianNB().fit(X_train,y_train)\n",
    "dt = DecisionTreeClassifier().fit(X_train,y_train)\n",
    "\n",
    "\n",
    "### 2. Ensemble Techniques \n",
    "rf = RandomForestClassifier().fit(X_train,y_train)\n",
    "ab = AdaBoostClassifier().fit(X_train,y_train)\n",
    "gb = GradientBoostingClassifier().fit(X_train,y_train)\n",
    "xgb = XGBClassifier().fit(X_train,y_train)"
   ]
  },
  {
   "cell_type": "markdown",
   "id": "39241538",
   "metadata": {},
   "source": [
    "<a id=\"modelcomparison\"> </a>\n",
    "# 6. Models Comparison"
   ]
  },
  {
   "cell_type": "code",
   "execution_count": 225,
   "id": "e9e5d3b7",
   "metadata": {},
   "outputs": [],
   "source": [
    "train_scores = []\n",
    "\n",
    "test_scores = []\n",
    "\n",
    "models = [lr,knn,nb,dt,rf,ab,gb,xgb]\n",
    "\n",
    "for model in models:\n",
    "    y_pred_test = model.predict(X_test)\n",
    "    y_pred_train = model.predict(X_train)\n",
    "    test_scores.append(accuracy_score(y_test,y_pred_test))\n",
    "    train_scores.append(accuracy_score(y_train,y_pred_train))"
   ]
  },
  {
   "cell_type": "code",
   "execution_count": 226,
   "id": "ff0e1f34",
   "metadata": {},
   "outputs": [
    {
     "data": {
      "text/html": [
       "<div>\n",
       "<style scoped>\n",
       "    .dataframe tbody tr th:only-of-type {\n",
       "        vertical-align: middle;\n",
       "    }\n",
       "\n",
       "    .dataframe tbody tr th {\n",
       "        vertical-align: top;\n",
       "    }\n",
       "\n",
       "    .dataframe thead th {\n",
       "        text-align: right;\n",
       "    }\n",
       "</style>\n",
       "<table border=\"1\" class=\"dataframe\">\n",
       "  <thead>\n",
       "    <tr style=\"text-align: right;\">\n",
       "      <th></th>\n",
       "      <th>Train accuracy</th>\n",
       "      <th>Test accuracy</th>\n",
       "    </tr>\n",
       "  </thead>\n",
       "  <tbody>\n",
       "    <tr>\n",
       "      <th>Logistic Regression</th>\n",
       "      <td>0.825312</td>\n",
       "      <td>0.819556</td>\n",
       "    </tr>\n",
       "    <tr>\n",
       "      <th>K-Nearest Neighbors</th>\n",
       "      <td>0.872011</td>\n",
       "      <td>0.813387</td>\n",
       "    </tr>\n",
       "    <tr>\n",
       "      <th>Naive Bayes</th>\n",
       "      <td>0.816829</td>\n",
       "      <td>0.814929</td>\n",
       "    </tr>\n",
       "    <tr>\n",
       "      <th>Decision Tree</th>\n",
       "      <td>0.999190</td>\n",
       "      <td>0.804750</td>\n",
       "    </tr>\n",
       "    <tr>\n",
       "      <th>Random Forest</th>\n",
       "      <td>0.999152</td>\n",
       "      <td>0.821252</td>\n",
       "    </tr>\n",
       "    <tr>\n",
       "      <th>Ada Boost</th>\n",
       "      <td>0.825852</td>\n",
       "      <td>0.819093</td>\n",
       "    </tr>\n",
       "    <tr>\n",
       "      <th>Gradient Boost</th>\n",
       "      <td>0.842897</td>\n",
       "      <td>0.822640</td>\n",
       "    </tr>\n",
       "    <tr>\n",
       "      <th>XGBoost</th>\n",
       "      <td>0.924649</td>\n",
       "      <td>0.814312</td>\n",
       "    </tr>\n",
       "  </tbody>\n",
       "</table>\n",
       "</div>"
      ],
      "text/plain": [
       "                     Train accuracy  Test accuracy\n",
       "Logistic Regression        0.825312       0.819556\n",
       "K-Nearest Neighbors        0.872011       0.813387\n",
       "Naive Bayes                0.816829       0.814929\n",
       "Decision Tree              0.999190       0.804750\n",
       "Random Forest              0.999152       0.821252\n",
       "Ada Boost                  0.825852       0.819093\n",
       "Gradient Boost             0.842897       0.822640\n",
       "XGBoost                    0.924649       0.814312"
      ]
     },
     "execution_count": 226,
     "metadata": {},
     "output_type": "execute_result"
    }
   ],
   "source": [
    "model_performance = pd.DataFrame(index=[\"Logistic Regression\",\"K-Nearest Neighbors\",\"Naive Bayes\",\"Decision Tree\",\n",
    "                                        \"Random Forest\",\"Ada Boost\",\"Gradient Boost\",\"XGBoost\"],\n",
    "                                 data={\"Train accuracy\":train_scores,\"Test accuracy\":test_scores})\n",
    "model_performance"
   ]
  },
  {
   "cell_type": "markdown",
   "id": "43b60ba6",
   "metadata": {},
   "source": [
    "* Since Gradient Boost as performed the best in test set, we can use Gradient Boost model for our prediction.\n",
    "* The overall accuracy of the model is around 82%, which is quite good."
   ]
  },
  {
   "cell_type": "markdown",
   "id": "59a7a274",
   "metadata": {},
   "source": [
    "<a id=\"modelevaluation\"> </a>\n",
    "# 7. Model Evaluation"
   ]
  },
  {
   "cell_type": "code",
   "execution_count": 227,
   "id": "c89081f6",
   "metadata": {},
   "outputs": [],
   "source": [
    "gradientboost_model = GradientBoostingClassifier().fit(X_train,y_train)\n",
    "y_pred = gradientboost_model.predict(X_test)"
   ]
  },
  {
   "cell_type": "markdown",
   "id": "a55ab200",
   "metadata": {},
   "source": [
    "<a id=\"accuracyscore\"> </a>\n",
    "### 1. Accuracy Score"
   ]
  },
  {
   "cell_type": "code",
   "execution_count": 228,
   "id": "994c2d7c",
   "metadata": {},
   "outputs": [
    {
     "name": "stdout",
     "output_type": "stream",
     "text": [
      "Accuracy score:  0.8226403454657619\n"
     ]
    }
   ],
   "source": [
    "print(\"Accuracy score: \",accuracy_score(y_test,y_pred))"
   ]
  },
  {
   "cell_type": "markdown",
   "id": "381b2820",
   "metadata": {},
   "source": [
    "<a id=\"classificationreport\"> </a>\n",
    "### 2. Classification Report"
   ]
  },
  {
   "cell_type": "code",
   "execution_count": 229,
   "id": "b2f4b7d5",
   "metadata": {},
   "outputs": [
    {
     "name": "stdout",
     "output_type": "stream",
     "text": [
      "              precision    recall  f1-score   support\n",
      "\n",
      "           0       0.87      0.93      0.90      5325\n",
      "           1       0.51      0.35      0.41      1159\n",
      "\n",
      "    accuracy                           0.82      6484\n",
      "   macro avg       0.69      0.64      0.65      6484\n",
      "weighted avg       0.80      0.82      0.81      6484\n",
      "\n"
     ]
    }
   ],
   "source": [
    "print(classification_report(y_test,y_pred))"
   ]
  },
  {
   "cell_type": "markdown",
   "id": "693ef82a",
   "metadata": {},
   "source": [
    "• Precision is percent of correctly predicted positives among total predicted positives.\n",
    "\n",
    "• Recall is percent of positives among the actual positives which are correctly predicted."
   ]
  },
  {
   "cell_type": "code",
   "execution_count": 147,
   "id": "1efad720",
   "metadata": {},
   "outputs": [
    {
     "data": {
      "image/png": "[encoded data removed]",
      "text/plain": [
       "<IPython.core.display.Image object>"
      ]
     },
     "execution_count": 147,
     "metadata": {},
     "output_type": "execute_result"
    }
   ],
   "source": [
    "Image(filename=image_path)"
   ]
  },
  {
   "cell_type": "markdown",
   "id": "df287c8e",
   "metadata": {},
   "source": [
    "<a id=\"confusionmatrix\"> </a>\n",
    "### 3. Confusion Matrix"
   ]
  },
  {
   "cell_type": "code",
   "execution_count": 230,
   "id": "72973d21",
   "metadata": {},
   "outputs": [
    {
     "data": {
      "text/plain": [
       "array([[4931,  394],\n",
       "       [ 756,  403]], dtype=int64)"
      ]
     },
     "execution_count": 230,
     "metadata": {},
     "output_type": "execute_result"
    }
   ],
   "source": [
    "cm = confusion_matrix(y_test,y_pred)\n",
    "cm"
   ]
  },
  {
   "cell_type": "code",
   "execution_count": 231,
   "id": "a5548e5f",
   "metadata": {},
   "outputs": [
    {
     "data": {
      "image/png": "[encoded data removed]",
      "text/plain": [
       "<Figure size 576x432 with 1 Axes>"
      ]
     },
     "metadata": {
      "needs_background": "light"
     },
     "output_type": "display_data"
    }
   ],
   "source": [
    "plt.figure(figsize=(8, 6))\n",
    "sns.heatmap(cm, annot=True, fmt='d', cmap='Reds', \n",
    "            xticklabels=['Predicted 0', 'Predicted 1'], \n",
    "            yticklabels=['Actual 0', 'Actual 1'], cbar=False)\n",
    "plt.xlabel('Predicted')\n",
    "plt.ylabel('Actual')\n",
    "plt.title('Confusion Matrix')\n",
    "plt.show()"
   ]
  },
  {
   "cell_type": "code",
   "execution_count": 192,
   "id": "39a010b1",
   "metadata": {},
   "outputs": [
    {
     "data": {
      "image/png": "[encoded data removed]",
      "text/plain": [
       "<Figure size 576x432 with 1 Axes>"
      ]
     },
     "metadata": {
      "needs_background": "light"
     },
     "output_type": "display_data"
    }
   ],
   "source": [
    "# Extract TP, TN, FP, and FN\n",
    "TP = cm[1, 1]\n",
    "TN = cm[0, 0]\n",
    "FP = cm[0, 1]\n",
    "FN = cm[1, 0]\n",
    "\n",
    "# Display the confusion matrix using a heatmap with custom annotations\n",
    "plt.figure(figsize=(8, 6))\n",
    "sns.heatmap(cm, annot=True, fmt='d', cmap='Blues', \n",
    "            xticklabels=['Predicted 0', 'Predicted 1'], \n",
    "            yticklabels=['Actual 0', 'Actual 1'],cbar=False)\n",
    "plt.xlabel('Predicted')\n",
    "plt.ylabel('Actual')\n",
    "plt.title('Confusion Matrix')\n",
    "\n",
    "# Add custom annotations for TP, TN, FP, FN\n",
    "plt.text(0, 0, f'TP = {TN}', ha='left',va='center' ,fontsize=12, color='green')\n",
    "plt.text(0, 1, f'FP = {FN}', ha='left', va='center' ,fontsize=12, color='red')\n",
    "plt.text(1, 0, f'FN = {FP}', ha='left', va='center', fontsize=12, color='red')\n",
    "plt.text(1, 1, f'TN = {TP}', ha='left', va='center', fontsize=12, color='green')\n",
    "\n",
    "plt.show()"
   ]
  },
  {
   "cell_type": "markdown",
   "id": "d14538dd",
   "metadata": {},
   "source": [
    "<a id=\"cohenkappascore\"> </a>\n",
    "### 4. Cohen Kappa Score"
   ]
  },
  {
   "cell_type": "code",
   "execution_count": 232,
   "id": "e1e9dc6f",
   "metadata": {},
   "outputs": [
    {
     "data": {
      "text/plain": [
       "0.3118207245272794"
      ]
     },
     "execution_count": 232,
     "metadata": {},
     "output_type": "execute_result"
    }
   ],
   "source": [
    "cohen_kappa_score(y_test,y_pred)"
   ]
  },
  {
   "cell_type": "markdown",
   "id": "d38b2f0f",
   "metadata": {},
   "source": [
    "* The value of cohen Kappa score lies between -1 to +1.\n",
    "* Since the value of the model is around +0.3, it is a generalized model."
   ]
  },
  {
   "cell_type": "markdown",
   "id": "837dfe63",
   "metadata": {},
   "source": [
    "<a id=\"ROCAUC\"> </a>\n",
    "### 5. Receiver Operating Characteristic - Area Under Curve"
   ]
  },
  {
   "cell_type": "code",
   "execution_count": 233,
   "id": "331d81c0",
   "metadata": {},
   "outputs": [],
   "source": [
    "y_pred_proba = [i[1] for i in gradientboost_model.predict_proba(X_test)]"
   ]
  },
  {
   "cell_type": "code",
   "execution_count": 238,
   "id": "a31fd0e1",
   "metadata": {},
   "outputs": [
    {
     "data": {
      "image/png": "[encoded data removed]",
      "text/plain": [
       "<Figure size 432x288 with 1 Axes>"
      ]
     },
     "metadata": {
      "needs_background": "light"
     },
     "output_type": "display_data"
    }
   ],
   "source": [
    "fpr,tpr,thresholds = roc_curve(y_test,y_pred_proba)\n",
    "plt.plot(fpr,tpr)\n",
    "plt.xlim([0,1])\n",
    "plt.ylim([0,1])\n",
    "plt.plot([0,1],\"r--\")\n",
    "plt.text(x=0.4,y=0.2,s=\"ROC-AUC Score = \" + str(roc_auc_score(y_test,y_pred_proba)))\n",
    "plt.title(\"ROC curve\")\n",
    "plt.xlabel(\"False Positive Rates\")\n",
    "plt.ylabel(\"True Positive Rates\")\n",
    "plt.show()"
   ]
  },
  {
   "cell_type": "markdown",
   "id": "6fe2466a",
   "metadata": {},
   "source": [
    "<a id=\"youdenstable\"> </a>\n",
    "### 6. Youden's Table"
   ]
  },
  {
   "cell_type": "code",
   "execution_count": 239,
   "id": "3589dd96",
   "metadata": {},
   "outputs": [
    {
     "data": {
      "text/html": [
       "<div>\n",
       "<style scoped>\n",
       "    .dataframe tbody tr th:only-of-type {\n",
       "        vertical-align: middle;\n",
       "    }\n",
       "\n",
       "    .dataframe tbody tr th {\n",
       "        vertical-align: top;\n",
       "    }\n",
       "\n",
       "    .dataframe thead th {\n",
       "        text-align: right;\n",
       "    }\n",
       "</style>\n",
       "<table border=\"1\" class=\"dataframe\">\n",
       "  <thead>\n",
       "    <tr style=\"text-align: right;\">\n",
       "      <th></th>\n",
       "      <th>FPR</th>\n",
       "      <th>TPR</th>\n",
       "      <th>Threshold</th>\n",
       "      <th>Difference</th>\n",
       "    </tr>\n",
       "  </thead>\n",
       "  <tbody>\n",
       "    <tr>\n",
       "      <th>1119</th>\n",
       "      <td>0.231362</td>\n",
       "      <td>0.924935</td>\n",
       "      <td>0.105349</td>\n",
       "      <td>0.693574</td>\n",
       "    </tr>\n",
       "    <tr>\n",
       "      <th>1130</th>\n",
       "      <td>0.238122</td>\n",
       "      <td>0.930975</td>\n",
       "      <td>0.092402</td>\n",
       "      <td>0.692853</td>\n",
       "    </tr>\n",
       "    <tr>\n",
       "      <th>1131</th>\n",
       "      <td>0.238310</td>\n",
       "      <td>0.930975</td>\n",
       "      <td>0.092313</td>\n",
       "      <td>0.692665</td>\n",
       "    </tr>\n",
       "    <tr>\n",
       "      <th>1124</th>\n",
       "      <td>0.236056</td>\n",
       "      <td>0.928387</td>\n",
       "      <td>0.094433</td>\n",
       "      <td>0.692330</td>\n",
       "    </tr>\n",
       "    <tr>\n",
       "      <th>1132</th>\n",
       "      <td>0.238685</td>\n",
       "      <td>0.930975</td>\n",
       "      <td>0.092171</td>\n",
       "      <td>0.692290</td>\n",
       "    </tr>\n",
       "    <tr>\n",
       "      <th>...</th>\n",
       "      <td>...</td>\n",
       "      <td>...</td>\n",
       "      <td>...</td>\n",
       "      <td>...</td>\n",
       "    </tr>\n",
       "    <tr>\n",
       "      <th>3</th>\n",
       "      <td>0.000939</td>\n",
       "      <td>0.000863</td>\n",
       "      <td>0.659406</td>\n",
       "      <td>-0.000076</td>\n",
       "    </tr>\n",
       "    <tr>\n",
       "      <th>6</th>\n",
       "      <td>0.001878</td>\n",
       "      <td>0.001726</td>\n",
       "      <td>0.620090</td>\n",
       "      <td>-0.000152</td>\n",
       "    </tr>\n",
       "    <tr>\n",
       "      <th>1</th>\n",
       "      <td>0.000188</td>\n",
       "      <td>0.000000</td>\n",
       "      <td>0.759896</td>\n",
       "      <td>-0.000188</td>\n",
       "    </tr>\n",
       "    <tr>\n",
       "      <th>4</th>\n",
       "      <td>0.001127</td>\n",
       "      <td>0.000863</td>\n",
       "      <td>0.652469</td>\n",
       "      <td>-0.000264</td>\n",
       "    </tr>\n",
       "    <tr>\n",
       "      <th>2</th>\n",
       "      <td>0.000939</td>\n",
       "      <td>0.000000</td>\n",
       "      <td>0.678929</td>\n",
       "      <td>-0.000939</td>\n",
       "    </tr>\n",
       "  </tbody>\n",
       "</table>\n",
       "<p>2132 rows × 4 columns</p>\n",
       "</div>"
      ],
      "text/plain": [
       "           FPR       TPR  Threshold  Difference\n",
       "1119  0.231362  0.924935   0.105349    0.693574\n",
       "1130  0.238122  0.930975   0.092402    0.692853\n",
       "1131  0.238310  0.930975   0.092313    0.692665\n",
       "1124  0.236056  0.928387   0.094433    0.692330\n",
       "1132  0.238685  0.930975   0.092171    0.692290\n",
       "...        ...       ...        ...         ...\n",
       "3     0.000939  0.000863   0.659406   -0.000076\n",
       "6     0.001878  0.001726   0.620090   -0.000152\n",
       "1     0.000188  0.000000   0.759896   -0.000188\n",
       "4     0.001127  0.000863   0.652469   -0.000264\n",
       "2     0.000939  0.000000   0.678929   -0.000939\n",
       "\n",
       "[2132 rows x 4 columns]"
      ]
     },
     "execution_count": 239,
     "metadata": {},
     "output_type": "execute_result"
    }
   ],
   "source": [
    "youden_table = pd.DataFrame(data={\"FPR\":fpr,\"TPR\":tpr,\"Threshold\":thresholds})\n",
    "youden_table[\"Difference\"] = youden_table.TPR-youden_table.FPR\n",
    "youden_table.sort_values(\"Difference\",ascending=False)"
   ]
  },
  {
   "cell_type": "markdown",
   "id": "4e11dc04",
   "metadata": {},
   "source": [
    "* We use Youden's Index to identify the optimal threshold for classifying the target class with the highest probability.\n",
    "* Wherever the difference is low between the FPR and TPR, we consider it as optimal threshold.\n",
    "* Since the difference of 0.10 is higher, we can consider 0.10 as the threshold."
   ]
  },
  {
   "cell_type": "markdown",
   "id": "72036813",
   "metadata": {},
   "source": [
    "## 8. Model Optimization"
   ]
  },
  {
   "cell_type": "code",
   "execution_count": 240,
   "id": "23be501e",
   "metadata": {},
   "outputs": [],
   "source": [
    "# Create a GradientBoostingClassifier object\n",
    "gbc = GradientBoostingClassifier()\n",
    "\n",
    "# Train the GradientBoostingClassifier\n",
    "gbc.fit(X_train, y_train)\n",
    "\n",
    "# Get the probability of y_test records being = 1\n",
    "y_scores = gbc.predict_proba(X_test)[:, 1]\n",
    "\n",
    "# Apply the threshold to the probabilities to get the final predictions\n",
    "y_pred = [1 if score > 0.1 else 0 for score in y_scores]"
   ]
  },
  {
   "cell_type": "markdown",
   "id": "fdfb5639",
   "metadata": {},
   "source": [
    "Accuracy Score"
   ]
  },
  {
   "cell_type": "code",
   "execution_count": 244,
   "id": "12042c7a",
   "metadata": {},
   "outputs": [
    {
     "data": {
      "text/plain": [
       "0.7948797038864899"
      ]
     },
     "execution_count": 244,
     "metadata": {},
     "output_type": "execute_result"
    }
   ],
   "source": [
    "accuracy_score(y_test, y_pred)"
   ]
  },
  {
   "cell_type": "markdown",
   "id": "9deb25ec",
   "metadata": {},
   "source": [
    "* Since the model is not optimised using the Youden's index, we will not consider the threshold."
   ]
  },
  {
   "cell_type": "markdown",
   "id": "1f0c2060",
   "metadata": {},
   "source": [
    "## Recursive Feature Selection"
   ]
  },
  {
   "cell_type": "code",
   "execution_count": 251,
   "id": "40cb4a5f",
   "metadata": {},
   "outputs": [],
   "source": [
    "rfecv = RFECV(estimator=GradientBoostingClassifier(random_state=2),cv=10,scoring=\"accuracy\").fit(X_train,y_train)"
   ]
  },
  {
   "cell_type": "code",
   "execution_count": 252,
   "id": "b6309775",
   "metadata": {},
   "outputs": [
    {
     "data": {
      "text/plain": [
       "Index(['Income', 'Amount', 'Rate', 'Percent_income'], dtype='object')"
      ]
     },
     "execution_count": 252,
     "metadata": {},
     "output_type": "execute_result"
    }
   ],
   "source": [
    "features = pd.DataFrame(index=X.columns,data={\"Rank\":rfecv.ranking_})\n",
    "important_features = features[features.Rank==1].index\n",
    "important_features"
   ]
  },
  {
   "cell_type": "code",
   "execution_count": 253,
   "id": "d194cb09",
   "metadata": {},
   "outputs": [],
   "source": [
    "# Selected features\n",
    "X_important = X[important_features]"
   ]
  },
  {
   "cell_type": "code",
   "execution_count": 254,
   "id": "6773bf82",
   "metadata": {},
   "outputs": [],
   "source": [
    "X_train,X_test,y_train,y_test = train_test_split(X_important,y,test_size=0.2,random_state=2)"
   ]
  },
  {
   "cell_type": "code",
   "execution_count": 257,
   "id": "cac8ce5d",
   "metadata": {},
   "outputs": [],
   "source": [
    "gradientboost_model = GradientBoostingClassifier().fit(X_train,y_train)\n",
    "y_pred = gradientboost_model.predict(X_test)"
   ]
  },
  {
   "cell_type": "code",
   "execution_count": 258,
   "id": "a3a480b5",
   "metadata": {},
   "outputs": [
    {
     "data": {
      "text/plain": [
       "0.8263417643429981"
      ]
     },
     "execution_count": 258,
     "metadata": {},
     "output_type": "execute_result"
    }
   ],
   "source": [
    "accuracy_score(y_test,y_pred)"
   ]
  },
  {
   "cell_type": "markdown",
   "id": "d9f5e3b0",
   "metadata": {},
   "source": [
    "<a id=\"conclusion\"> </a>\n",
    "# Conclusion"
   ]
  },
  {
   "cell_type": "markdown",
   "id": "f304ce48",
   "metadata": {},
   "source": [
    "* Explored a variety of classification and ensemble algorithms for Loan Default Risk Assessment.\n",
    "* Identified Gradient Boosting Classifier as the top-performing model with exceptional predictive capabilities.\n",
    "* Leveraged recursive feature selection to optimize the model, enhancing its efficiency and interpretability.\n",
    "* Utilized Youden's Index to determine an optimal classification threshold, ensuring a balanced approach to risk assessment.\n",
    "* Achieved a high-performing Loan Default Risk Assessment Model that empowers financial institutions to make informed lending decisions.\n",
    "- Recognized the dynamic nature of data science and the ongoing pursuit of improving model performance."
   ]
  }
 ],
 "metadata": {
  "kernelspec": {
   "display_name": "Python 3 (ipykernel)",
   "language": "python",
   "name": "python3"
  },
  "language_info": {
   "codemirror_mode": {
    "name": "ipython",
    "version": 3
   },
   "file_extension": ".py",
   "mimetype": "text/x-python",
   "name": "python",
   "nbconvert_exporter": "python",
   "pygments_lexer": "ipython3",
   "version": "3.9.7"
  }
 },
 "nbformat": 4,
 "nbformat_minor": 5
}
